{
 "cells": [
  {
   "cell_type": "markdown",
   "metadata": {},
   "source": [
    "# DELHIVERY-FEATURE ENGINEERING"
   ]
  },
  {
   "cell_type": "markdown",
   "metadata": {},
   "source": [
    "The company wants to understand and process the data coming out of data engineering pipelines:\n",
    "\n",
    "• Clean, sanitize and manipulate data to get useful features out of raw fields\n",
    "\n",
    "• Make sense out of the raw data and help the data science team to build forecasting models on it\n",
    "\n",
    "DatasetLink:\n",
    "    \n",
    "https://d2beiqkhq929f0.cloudfront.net/public_assets/assets/000/001/551/original/delhivery_data.csv?\n",
    "1642751181\n",
    "\n",
    "Column Profiling:\n",
    "\n",
    "    data - tells whether the data is testing or training data\n",
    "    trip_creation_time – Timestamp of trip creation\n",
    "    route_schedule_uuid – Unique Id for a particular route schedule\n",
    "    route_type – Transportation type\n",
    "    FTL – Full Truck Load: FTL shipments get to the destination sooner, as the truck is making no other pickups or drop-offs along the way\n",
    "    Carting: Handling system consisting of small vehicles (carts)\n",
    "    trip_uuid - Unique ID given to a particular trip (A trip may include different source and destination centers)\n",
    "    source_center - Source ID of trip origin\n",
    "    source_name - Source Name of trip origin\n",
    "    destination_cente – Destination ID\n",
    "    destination_name – Destination Name\n",
    "    od_start_time – Trip start time\n",
    "    od_end_time – Trip end time\n",
    "    start_scan_to_end_scan – Time taken to deliver from source to destination\n",
    "    is_cutoff – Unknown field\n",
    "    cutoff_factor – Unknown field\n",
    "    cutoff_timestamp – Unknown field\n",
    "    actual_distance_to_destination – Distance in Kms between source and destination warehouse\n",
    "    actual_time – Actual time taken to complete the delivery (Cumulative)\n",
    "    osrm_time – An open-source routing engine time calculator which computes the shortest path between points in a given map (Includes usual traffic, distance through major and minor roads) and gives the time (Cumulative)\n",
    "    osrm_distance – An open-source routing engine which computes the shortest path between points in a given map (Includes usual traffic, distance through major and minor roads) (Cumulative)\n",
    "    factor – Unknown field\n",
    "    segment_actual_time – This is a segment time. Time taken by the subset of the package delivery\n",
    "    segment_osrm_time – This is the OSRM segment time. Time taken by the subset of the package delivery\n",
    "    segment_osrm_distance – This is the OSRM distance. Distance covered by subset of the package delivery\n",
    "    segment_factor – Unknown field"
   ]
  },
  {
   "cell_type": "code",
   "execution_count": 1,
   "metadata": {},
   "outputs": [],
   "source": [
    "import pandas as pd\n",
    "import numpy as np\n",
    "import matplotlib.pyplot as plt\n",
    "import seaborn as sns\n",
    "from scipy.stats import f_oneway, ttest_ind, shapiro, kruskal, chi2_contingency, levene\n",
    "from statsmodels.graphics.gofplots import qqplot\n",
    "from sklearn.preprocessing import LabelEncoder \n",
    "from sklearn.preprocessing import MinMaxScaler\n",
    "from sklearn.preprocessing import StandardScaler"
   ]
  },
  {
   "cell_type": "markdown",
   "metadata": {},
   "source": [
    "# Loading Delhivery data"
   ]
  },
  {
   "cell_type": "code",
   "execution_count": 2,
   "metadata": {},
   "outputs": [],
   "source": [
    "delhivery_data = pd.read_csv('delhivery_data.csv')"
   ]
  },
  {
   "cell_type": "code",
   "execution_count": 3,
   "metadata": {},
   "outputs": [
    {
     "data": {
      "text/html": [
       "<div>\n",
       "<style scoped>\n",
       "    .dataframe tbody tr th:only-of-type {\n",
       "        vertical-align: middle;\n",
       "    }\n",
       "\n",
       "    .dataframe tbody tr th {\n",
       "        vertical-align: top;\n",
       "    }\n",
       "\n",
       "    .dataframe thead th {\n",
       "        text-align: right;\n",
       "    }\n",
       "</style>\n",
       "<table border=\"1\" class=\"dataframe\">\n",
       "  <thead>\n",
       "    <tr style=\"text-align: right;\">\n",
       "      <th></th>\n",
       "      <th>data</th>\n",
       "      <th>trip_creation_time</th>\n",
       "      <th>route_schedule_uuid</th>\n",
       "      <th>route_type</th>\n",
       "      <th>trip_uuid</th>\n",
       "      <th>source_center</th>\n",
       "      <th>source_name</th>\n",
       "      <th>destination_center</th>\n",
       "      <th>destination_name</th>\n",
       "      <th>od_start_time</th>\n",
       "      <th>...</th>\n",
       "      <th>cutoff_timestamp</th>\n",
       "      <th>actual_distance_to_destination</th>\n",
       "      <th>actual_time</th>\n",
       "      <th>osrm_time</th>\n",
       "      <th>osrm_distance</th>\n",
       "      <th>factor</th>\n",
       "      <th>segment_actual_time</th>\n",
       "      <th>segment_osrm_time</th>\n",
       "      <th>segment_osrm_distance</th>\n",
       "      <th>segment_factor</th>\n",
       "    </tr>\n",
       "  </thead>\n",
       "  <tbody>\n",
       "    <tr>\n",
       "      <th>0</th>\n",
       "      <td>training</td>\n",
       "      <td>2018-09-20 02:35:36.476840</td>\n",
       "      <td>thanos::sroute:eb7bfc78-b351-4c0e-a951-fa3d5c3...</td>\n",
       "      <td>Carting</td>\n",
       "      <td>trip-153741093647649320</td>\n",
       "      <td>IND388121AAA</td>\n",
       "      <td>Anand_VUNagar_DC (Gujarat)</td>\n",
       "      <td>IND388620AAB</td>\n",
       "      <td>Khambhat_MotvdDPP_D (Gujarat)</td>\n",
       "      <td>2018-09-20 03:21:32.418600</td>\n",
       "      <td>...</td>\n",
       "      <td>2018-09-20 04:27:55</td>\n",
       "      <td>10.435660</td>\n",
       "      <td>14.0</td>\n",
       "      <td>11.0</td>\n",
       "      <td>11.9653</td>\n",
       "      <td>1.272727</td>\n",
       "      <td>14.0</td>\n",
       "      <td>11.0</td>\n",
       "      <td>11.9653</td>\n",
       "      <td>1.272727</td>\n",
       "    </tr>\n",
       "    <tr>\n",
       "      <th>1</th>\n",
       "      <td>training</td>\n",
       "      <td>2018-09-20 02:35:36.476840</td>\n",
       "      <td>thanos::sroute:eb7bfc78-b351-4c0e-a951-fa3d5c3...</td>\n",
       "      <td>Carting</td>\n",
       "      <td>trip-153741093647649320</td>\n",
       "      <td>IND388121AAA</td>\n",
       "      <td>Anand_VUNagar_DC (Gujarat)</td>\n",
       "      <td>IND388620AAB</td>\n",
       "      <td>Khambhat_MotvdDPP_D (Gujarat)</td>\n",
       "      <td>2018-09-20 03:21:32.418600</td>\n",
       "      <td>...</td>\n",
       "      <td>2018-09-20 04:17:55</td>\n",
       "      <td>18.936842</td>\n",
       "      <td>24.0</td>\n",
       "      <td>20.0</td>\n",
       "      <td>21.7243</td>\n",
       "      <td>1.200000</td>\n",
       "      <td>10.0</td>\n",
       "      <td>9.0</td>\n",
       "      <td>9.7590</td>\n",
       "      <td>1.111111</td>\n",
       "    </tr>\n",
       "    <tr>\n",
       "      <th>2</th>\n",
       "      <td>training</td>\n",
       "      <td>2018-09-20 02:35:36.476840</td>\n",
       "      <td>thanos::sroute:eb7bfc78-b351-4c0e-a951-fa3d5c3...</td>\n",
       "      <td>Carting</td>\n",
       "      <td>trip-153741093647649320</td>\n",
       "      <td>IND388121AAA</td>\n",
       "      <td>Anand_VUNagar_DC (Gujarat)</td>\n",
       "      <td>IND388620AAB</td>\n",
       "      <td>Khambhat_MotvdDPP_D (Gujarat)</td>\n",
       "      <td>2018-09-20 03:21:32.418600</td>\n",
       "      <td>...</td>\n",
       "      <td>2018-09-20 04:01:19.505586</td>\n",
       "      <td>27.637279</td>\n",
       "      <td>40.0</td>\n",
       "      <td>28.0</td>\n",
       "      <td>32.5395</td>\n",
       "      <td>1.428571</td>\n",
       "      <td>16.0</td>\n",
       "      <td>7.0</td>\n",
       "      <td>10.8152</td>\n",
       "      <td>2.285714</td>\n",
       "    </tr>\n",
       "    <tr>\n",
       "      <th>3</th>\n",
       "      <td>training</td>\n",
       "      <td>2018-09-20 02:35:36.476840</td>\n",
       "      <td>thanos::sroute:eb7bfc78-b351-4c0e-a951-fa3d5c3...</td>\n",
       "      <td>Carting</td>\n",
       "      <td>trip-153741093647649320</td>\n",
       "      <td>IND388121AAA</td>\n",
       "      <td>Anand_VUNagar_DC (Gujarat)</td>\n",
       "      <td>IND388620AAB</td>\n",
       "      <td>Khambhat_MotvdDPP_D (Gujarat)</td>\n",
       "      <td>2018-09-20 03:21:32.418600</td>\n",
       "      <td>...</td>\n",
       "      <td>2018-09-20 03:39:57</td>\n",
       "      <td>36.118028</td>\n",
       "      <td>62.0</td>\n",
       "      <td>40.0</td>\n",
       "      <td>45.5620</td>\n",
       "      <td>1.550000</td>\n",
       "      <td>21.0</td>\n",
       "      <td>12.0</td>\n",
       "      <td>13.0224</td>\n",
       "      <td>1.750000</td>\n",
       "    </tr>\n",
       "    <tr>\n",
       "      <th>4</th>\n",
       "      <td>training</td>\n",
       "      <td>2018-09-20 02:35:36.476840</td>\n",
       "      <td>thanos::sroute:eb7bfc78-b351-4c0e-a951-fa3d5c3...</td>\n",
       "      <td>Carting</td>\n",
       "      <td>trip-153741093647649320</td>\n",
       "      <td>IND388121AAA</td>\n",
       "      <td>Anand_VUNagar_DC (Gujarat)</td>\n",
       "      <td>IND388620AAB</td>\n",
       "      <td>Khambhat_MotvdDPP_D (Gujarat)</td>\n",
       "      <td>2018-09-20 03:21:32.418600</td>\n",
       "      <td>...</td>\n",
       "      <td>2018-09-20 03:33:55</td>\n",
       "      <td>39.386040</td>\n",
       "      <td>68.0</td>\n",
       "      <td>44.0</td>\n",
       "      <td>54.2181</td>\n",
       "      <td>1.545455</td>\n",
       "      <td>6.0</td>\n",
       "      <td>5.0</td>\n",
       "      <td>3.9153</td>\n",
       "      <td>1.200000</td>\n",
       "    </tr>\n",
       "  </tbody>\n",
       "</table>\n",
       "<p>5 rows × 24 columns</p>\n",
       "</div>"
      ],
      "text/plain": [
       "       data          trip_creation_time  \\\n",
       "0  training  2018-09-20 02:35:36.476840   \n",
       "1  training  2018-09-20 02:35:36.476840   \n",
       "2  training  2018-09-20 02:35:36.476840   \n",
       "3  training  2018-09-20 02:35:36.476840   \n",
       "4  training  2018-09-20 02:35:36.476840   \n",
       "\n",
       "                                 route_schedule_uuid route_type  \\\n",
       "0  thanos::sroute:eb7bfc78-b351-4c0e-a951-fa3d5c3...    Carting   \n",
       "1  thanos::sroute:eb7bfc78-b351-4c0e-a951-fa3d5c3...    Carting   \n",
       "2  thanos::sroute:eb7bfc78-b351-4c0e-a951-fa3d5c3...    Carting   \n",
       "3  thanos::sroute:eb7bfc78-b351-4c0e-a951-fa3d5c3...    Carting   \n",
       "4  thanos::sroute:eb7bfc78-b351-4c0e-a951-fa3d5c3...    Carting   \n",
       "\n",
       "                 trip_uuid source_center                 source_name  \\\n",
       "0  trip-153741093647649320  IND388121AAA  Anand_VUNagar_DC (Gujarat)   \n",
       "1  trip-153741093647649320  IND388121AAA  Anand_VUNagar_DC (Gujarat)   \n",
       "2  trip-153741093647649320  IND388121AAA  Anand_VUNagar_DC (Gujarat)   \n",
       "3  trip-153741093647649320  IND388121AAA  Anand_VUNagar_DC (Gujarat)   \n",
       "4  trip-153741093647649320  IND388121AAA  Anand_VUNagar_DC (Gujarat)   \n",
       "\n",
       "  destination_center               destination_name  \\\n",
       "0       IND388620AAB  Khambhat_MotvdDPP_D (Gujarat)   \n",
       "1       IND388620AAB  Khambhat_MotvdDPP_D (Gujarat)   \n",
       "2       IND388620AAB  Khambhat_MotvdDPP_D (Gujarat)   \n",
       "3       IND388620AAB  Khambhat_MotvdDPP_D (Gujarat)   \n",
       "4       IND388620AAB  Khambhat_MotvdDPP_D (Gujarat)   \n",
       "\n",
       "                od_start_time  ...            cutoff_timestamp  \\\n",
       "0  2018-09-20 03:21:32.418600  ...         2018-09-20 04:27:55   \n",
       "1  2018-09-20 03:21:32.418600  ...         2018-09-20 04:17:55   \n",
       "2  2018-09-20 03:21:32.418600  ...  2018-09-20 04:01:19.505586   \n",
       "3  2018-09-20 03:21:32.418600  ...         2018-09-20 03:39:57   \n",
       "4  2018-09-20 03:21:32.418600  ...         2018-09-20 03:33:55   \n",
       "\n",
       "   actual_distance_to_destination  actual_time  osrm_time osrm_distance  \\\n",
       "0                       10.435660         14.0       11.0       11.9653   \n",
       "1                       18.936842         24.0       20.0       21.7243   \n",
       "2                       27.637279         40.0       28.0       32.5395   \n",
       "3                       36.118028         62.0       40.0       45.5620   \n",
       "4                       39.386040         68.0       44.0       54.2181   \n",
       "\n",
       "     factor  segment_actual_time  segment_osrm_time  segment_osrm_distance  \\\n",
       "0  1.272727                 14.0               11.0                11.9653   \n",
       "1  1.200000                 10.0                9.0                 9.7590   \n",
       "2  1.428571                 16.0                7.0                10.8152   \n",
       "3  1.550000                 21.0               12.0                13.0224   \n",
       "4  1.545455                  6.0                5.0                 3.9153   \n",
       "\n",
       "   segment_factor  \n",
       "0        1.272727  \n",
       "1        1.111111  \n",
       "2        2.285714  \n",
       "3        1.750000  \n",
       "4        1.200000  \n",
       "\n",
       "[5 rows x 24 columns]"
      ]
     },
     "execution_count": 3,
     "metadata": {},
     "output_type": "execute_result"
    }
   ],
   "source": [
    "delhivery_data.head()"
   ]
  },
  {
   "cell_type": "code",
   "execution_count": 4,
   "metadata": {},
   "outputs": [
    {
     "data": {
      "text/plain": [
       "(144867, 24)"
      ]
     },
     "execution_count": 4,
     "metadata": {},
     "output_type": "execute_result"
    }
   ],
   "source": [
    "delhivery_data.shape"
   ]
  },
  {
   "cell_type": "markdown",
   "metadata": {},
   "source": [
    "There are 24 fields with 144867 rows. Out of 24 fields 5 are unknown fileds which can be dropped.\n",
    "\n",
    "is_cutoff – Unknown field\n",
    "\n",
    "cutoff_factor – Unknown field\n",
    "\n",
    "cutoff_timestamp – Unknown field\n",
    "\n",
    "factor – Unknown field\n",
    "\n",
    "segment_factor - Unknown field"
   ]
  },
  {
   "cell_type": "markdown",
   "metadata": {},
   "source": [
    "# 1. BASIC DATA CLEANING AND EXPLORTION"
   ]
  },
  {
   "cell_type": "markdown",
   "metadata": {},
   "source": [
    "# Dropping unknown fields"
   ]
  },
  {
   "cell_type": "code",
   "execution_count": 5,
   "metadata": {},
   "outputs": [],
   "source": [
    "delhivery_data = delhivery_data.drop(['is_cutoff','cutoff_factor','cutoff_timestamp','factor','segment_factor'], axis = 1)"
   ]
  },
  {
   "cell_type": "code",
   "execution_count": 6,
   "metadata": {},
   "outputs": [
    {
     "data": {
      "text/plain": [
       "(144867, 19)"
      ]
     },
     "execution_count": 6,
     "metadata": {},
     "output_type": "execute_result"
    }
   ],
   "source": [
    "delhivery_data.shape"
   ]
  },
  {
   "cell_type": "code",
   "execution_count": 7,
   "metadata": {},
   "outputs": [
    {
     "data": {
      "text/plain": [
       "['data',\n",
       " 'trip_creation_time',\n",
       " 'route_schedule_uuid',\n",
       " 'route_type',\n",
       " 'trip_uuid',\n",
       " 'source_center',\n",
       " 'source_name',\n",
       " 'destination_center',\n",
       " 'destination_name',\n",
       " 'od_start_time',\n",
       " 'od_end_time',\n",
       " 'start_scan_to_end_scan',\n",
       " 'actual_distance_to_destination',\n",
       " 'actual_time',\n",
       " 'osrm_time',\n",
       " 'osrm_distance',\n",
       " 'segment_actual_time',\n",
       " 'segment_osrm_time',\n",
       " 'segment_osrm_distance']"
      ]
     },
     "execution_count": 7,
     "metadata": {},
     "output_type": "execute_result"
    }
   ],
   "source": [
    "list(delhivery_data.columns)"
   ]
  },
  {
   "cell_type": "code",
   "execution_count": 9,
   "metadata": {},
   "outputs": [
    {
     "name": "stdout",
     "output_type": "stream",
     "text": [
      "<class 'pandas.core.frame.DataFrame'>\n",
      "RangeIndex: 144867 entries, 0 to 144866\n",
      "Data columns (total 19 columns):\n",
      " #   Column                          Non-Null Count   Dtype  \n",
      "---  ------                          --------------   -----  \n",
      " 0   data                            144867 non-null  object \n",
      " 1   trip_creation_time              144867 non-null  object \n",
      " 2   route_schedule_uuid             144867 non-null  object \n",
      " 3   route_type                      144867 non-null  object \n",
      " 4   trip_uuid                       144867 non-null  object \n",
      " 5   source_center                   144867 non-null  object \n",
      " 6   source_name                     144574 non-null  object \n",
      " 7   destination_center              144867 non-null  object \n",
      " 8   destination_name                144606 non-null  object \n",
      " 9   od_start_time                   144867 non-null  object \n",
      " 10  od_end_time                     144867 non-null  object \n",
      " 11  start_scan_to_end_scan          144867 non-null  float64\n",
      " 12  actual_distance_to_destination  144867 non-null  float64\n",
      " 13  actual_time                     144867 non-null  float64\n",
      " 14  osrm_time                       144867 non-null  float64\n",
      " 15  osrm_distance                   144867 non-null  float64\n",
      " 16  segment_actual_time             144867 non-null  float64\n",
      " 17  segment_osrm_time               144867 non-null  float64\n",
      " 18  segment_osrm_distance           144867 non-null  float64\n",
      "dtypes: float64(8), object(11)\n",
      "memory usage: 21.0+ MB\n"
     ]
    }
   ],
   "source": [
    "delhivery_data.info()"
   ]
  },
  {
   "cell_type": "markdown",
   "metadata": {},
   "source": [
    "There are three date_time fields of object type which are needed to be converted into date_time.\n",
    "\n",
    "trip_creation_time\n",
    "\n",
    "od_start_time\n",
    "\n",
    "od_end_time"
   ]
  },
  {
   "cell_type": "markdown",
   "metadata": {},
   "source": [
    "# Converting date fields to type dateTime"
   ]
  },
  {
   "cell_type": "code",
   "execution_count": 10,
   "metadata": {},
   "outputs": [],
   "source": [
    "delhivery_data['trip_creation_time']=pd.to_datetime(delhivery_data['trip_creation_time'])\n",
    "delhivery_data['od_start_time']=pd.to_datetime(delhivery_data['od_start_time'])\n",
    "delhivery_data['od_end_time']=pd.to_datetime(delhivery_data['od_end_time'])"
   ]
  },
  {
   "cell_type": "code",
   "execution_count": 11,
   "metadata": {},
   "outputs": [
    {
     "name": "stdout",
     "output_type": "stream",
     "text": [
      "<class 'pandas.core.frame.DataFrame'>\n",
      "RangeIndex: 144867 entries, 0 to 144866\n",
      "Data columns (total 19 columns):\n",
      " #   Column                          Non-Null Count   Dtype         \n",
      "---  ------                          --------------   -----         \n",
      " 0   data                            144867 non-null  object        \n",
      " 1   trip_creation_time              144867 non-null  datetime64[ns]\n",
      " 2   route_schedule_uuid             144867 non-null  object        \n",
      " 3   route_type                      144867 non-null  object        \n",
      " 4   trip_uuid                       144867 non-null  object        \n",
      " 5   source_center                   144867 non-null  object        \n",
      " 6   source_name                     144574 non-null  object        \n",
      " 7   destination_center              144867 non-null  object        \n",
      " 8   destination_name                144606 non-null  object        \n",
      " 9   od_start_time                   144867 non-null  datetime64[ns]\n",
      " 10  od_end_time                     144867 non-null  datetime64[ns]\n",
      " 11  start_scan_to_end_scan          144867 non-null  float64       \n",
      " 12  actual_distance_to_destination  144867 non-null  float64       \n",
      " 13  actual_time                     144867 non-null  float64       \n",
      " 14  osrm_time                       144867 non-null  float64       \n",
      " 15  osrm_distance                   144867 non-null  float64       \n",
      " 16  segment_actual_time             144867 non-null  float64       \n",
      " 17  segment_osrm_time               144867 non-null  float64       \n",
      " 18  segment_osrm_distance           144867 non-null  float64       \n",
      "dtypes: datetime64[ns](3), float64(8), object(8)\n",
      "memory usage: 21.0+ MB\n"
     ]
    }
   ],
   "source": [
    "delhivery_data.info()"
   ]
  },
  {
   "cell_type": "code",
   "execution_count": 12,
   "metadata": {},
   "outputs": [
    {
     "data": {
      "text/plain": [
       "data                                0\n",
       "trip_creation_time                  0\n",
       "route_schedule_uuid                 0\n",
       "route_type                          0\n",
       "trip_uuid                           0\n",
       "source_center                       0\n",
       "source_name                       293\n",
       "destination_center                  0\n",
       "destination_name                  261\n",
       "od_start_time                       0\n",
       "od_end_time                         0\n",
       "start_scan_to_end_scan              0\n",
       "actual_distance_to_destination      0\n",
       "actual_time                         0\n",
       "osrm_time                           0\n",
       "osrm_distance                       0\n",
       "segment_actual_time                 0\n",
       "segment_osrm_time                   0\n",
       "segment_osrm_distance               0\n",
       "dtype: int64"
      ]
     },
     "execution_count": 12,
     "metadata": {},
     "output_type": "execute_result"
    }
   ],
   "source": [
    "delhivery_data.isnull().sum()"
   ]
  },
  {
   "cell_type": "markdown",
   "metadata": {},
   "source": [
    "For handling null values in source_name and destination_name, getting list of source_center and destination_center \n",
    "for the corresponding null values."
   ]
  },
  {
   "cell_type": "code",
   "execution_count": 13,
   "metadata": {},
   "outputs": [
    {
     "data": {
      "text/plain": [
       "['IND342902A1B',\n",
       " 'IND577116AAA',\n",
       " 'IND282002AAD',\n",
       " 'IND465333A1B',\n",
       " 'IND841301AAC',\n",
       " 'IND509103AAC',\n",
       " 'IND126116AAA',\n",
       " 'IND331022A1B',\n",
       " 'IND505326AAB',\n",
       " 'IND852118A1B']"
      ]
     },
     "execution_count": 13,
     "metadata": {},
     "output_type": "execute_result"
    }
   ],
   "source": [
    "ids_source_name_null = list(delhivery_data.loc[delhivery_data.source_name.isnull(),'source_center'].unique())\n",
    "ids_source_name_null"
   ]
  },
  {
   "cell_type": "code",
   "execution_count": 14,
   "metadata": {},
   "outputs": [
    {
     "data": {
      "text/plain": [
       "10"
      ]
     },
     "execution_count": 14,
     "metadata": {},
     "output_type": "execute_result"
    }
   ],
   "source": [
    "len(ids_source_name_null)"
   ]
  },
  {
   "cell_type": "code",
   "execution_count": 15,
   "metadata": {},
   "outputs": [
    {
     "data": {
      "text/plain": [
       "['IND342902A1B',\n",
       " 'IND577116AAA',\n",
       " 'IND282002AAD',\n",
       " 'IND465333A1B',\n",
       " 'IND841301AAC',\n",
       " 'IND505326AAB',\n",
       " 'IND852118A1B',\n",
       " 'IND126116AAA',\n",
       " 'IND509103AAC',\n",
       " 'IND221005A1A',\n",
       " 'IND250002AAC',\n",
       " 'IND331001A1C',\n",
       " 'IND122015AAC']"
      ]
     },
     "execution_count": 15,
     "metadata": {},
     "output_type": "execute_result"
    }
   ],
   "source": [
    "ids_destination_name_null = list(delhivery_data[delhivery_data.destination_name.isnull()].destination_center.unique())\n",
    "ids_destination_name_null"
   ]
  },
  {
   "cell_type": "code",
   "execution_count": 16,
   "metadata": {},
   "outputs": [
    {
     "data": {
      "text/plain": [
       "13"
      ]
     },
     "execution_count": 16,
     "metadata": {},
     "output_type": "execute_result"
    }
   ],
   "source": [
    "len(ids_destination_name_null)"
   ]
  },
  {
   "cell_type": "code",
   "execution_count": 17,
   "metadata": {},
   "outputs": [
    {
     "data": {
      "text/plain": [
       "False"
      ]
     },
     "execution_count": 17,
     "metadata": {},
     "output_type": "execute_result"
    }
   ],
   "source": [
    "np.all(ids_source_name_null in ids_destination_name_null)"
   ]
  },
  {
   "cell_type": "markdown",
   "metadata": {},
   "source": [
    "Missing field ids are not same for both souce and destination. so merging them and creating single unique list."
   ]
  },
  {
   "cell_type": "code",
   "execution_count": 18,
   "metadata": {},
   "outputs": [],
   "source": [
    "missing_name_id = list(set(ids_destination_name_null+ids_source_name_null))"
   ]
  },
  {
   "cell_type": "markdown",
   "metadata": {},
   "source": [
    "There are some missing area names both in source_name and destination_name in common.\n",
    "We are going to handle this by giving some dummy location name in the same format as 'Anand_VUNagar_DC (Gujarat)'.\t"
   ]
  },
  {
   "cell_type": "code",
   "execution_count": 19,
   "metadata": {},
   "outputs": [],
   "source": [
    "dummy_values= {}\n",
    "for i,id in enumerate(missing_name_id):\n",
    "    dummy_values[id] = f'city{i}_place{i}_code{i}(Unkonwn{i})'"
   ]
  },
  {
   "cell_type": "code",
   "execution_count": 20,
   "metadata": {},
   "outputs": [
    {
     "data": {
      "text/plain": [
       "{'IND221005A1A': 'city0_place0_code0(Unkonwn0)',\n",
       " 'IND282002AAD': 'city1_place1_code1(Unkonwn1)',\n",
       " 'IND250002AAC': 'city2_place2_code2(Unkonwn2)',\n",
       " 'IND122015AAC': 'city3_place3_code3(Unkonwn3)',\n",
       " 'IND465333A1B': 'city4_place4_code4(Unkonwn4)',\n",
       " 'IND331001A1C': 'city5_place5_code5(Unkonwn5)',\n",
       " 'IND577116AAA': 'city6_place6_code6(Unkonwn6)',\n",
       " 'IND505326AAB': 'city7_place7_code7(Unkonwn7)',\n",
       " 'IND852118A1B': 'city8_place8_code8(Unkonwn8)',\n",
       " 'IND509103AAC': 'city9_place9_code9(Unkonwn9)',\n",
       " 'IND126116AAA': 'city10_place10_code10(Unkonwn10)',\n",
       " 'IND342902A1B': 'city11_place11_code11(Unkonwn11)',\n",
       " 'IND841301AAC': 'city12_place12_code12(Unkonwn12)',\n",
       " 'IND331022A1B': 'city13_place13_code13(Unkonwn13)'}"
      ]
     },
     "execution_count": 20,
     "metadata": {},
     "output_type": "execute_result"
    }
   ],
   "source": [
    "dummy_values"
   ]
  },
  {
   "cell_type": "markdown",
   "metadata": {},
   "source": [
    "# Handling missing values in the data."
   ]
  },
  {
   "cell_type": "markdown",
   "metadata": {},
   "source": [
    "Filling null values in source_center and destination_center with dummy values corresponding to their source_center and destination_center"
   ]
  },
  {
   "cell_type": "code",
   "execution_count": 21,
   "metadata": {},
   "outputs": [],
   "source": [
    "for id in ids_source_name_null:\n",
    "    if id in dummy_values:\n",
    "        delhivery_data.loc[delhivery_data.source_center == id, 'source_name']= dummy_values[id]"
   ]
  },
  {
   "cell_type": "code",
   "execution_count": 22,
   "metadata": {},
   "outputs": [
    {
     "name": "stdout",
     "output_type": "stream",
     "text": [
      "source_center  source_name                     \n",
      "IND342902A1B   city11_place11_code11(Unkonwn11)    90\n",
      "dtype: int64\n",
      "source_center  source_name                 \n",
      "IND577116AAA   city6_place6_code6(Unkonwn6)    16\n",
      "dtype: int64\n",
      "source_center  source_name                 \n",
      "IND282002AAD   city1_place1_code1(Unkonwn1)    128\n",
      "dtype: int64\n",
      "source_center  source_name                 \n",
      "IND465333A1B   city4_place4_code4(Unkonwn4)    6\n",
      "dtype: int64\n",
      "source_center  source_name                     \n",
      "IND841301AAC   city12_place12_code12(Unkonwn12)    5\n",
      "dtype: int64\n",
      "source_center  source_name                 \n",
      "IND509103AAC   city9_place9_code9(Unkonwn9)    17\n",
      "dtype: int64\n",
      "source_center  source_name                     \n",
      "IND126116AAA   city10_place10_code10(Unkonwn10)    20\n",
      "dtype: int64\n",
      "source_center  source_name                     \n",
      "IND331022A1B   city13_place13_code13(Unkonwn13)    3\n",
      "dtype: int64\n",
      "source_center  source_name                 \n",
      "IND505326AAB   city7_place7_code7(Unkonwn7)    5\n",
      "dtype: int64\n",
      "source_center  source_name                 \n",
      "IND852118A1B   city8_place8_code8(Unkonwn8)    3\n",
      "dtype: int64\n"
     ]
    }
   ],
   "source": [
    "for id in ids_source_name_null:\n",
    "    if id in dummy_values:\n",
    "        print(delhivery_data.loc[delhivery_data.source_center == id, ['source_center','source_name']].value_counts())"
   ]
  },
  {
   "cell_type": "code",
   "execution_count": null,
   "metadata": {},
   "outputs": [],
   "source": []
  },
  {
   "cell_type": "code",
   "execution_count": 23,
   "metadata": {},
   "outputs": [],
   "source": [
    "for id in ids_destination_name_null:\n",
    "    if id in dummy_values:\n",
    "        delhivery_data.loc[delhivery_data.destination_center == id, 'destination_name']= dummy_values[id]"
   ]
  },
  {
   "cell_type": "code",
   "execution_count": 24,
   "metadata": {},
   "outputs": [
    {
     "name": "stdout",
     "output_type": "stream",
     "text": [
      "destination_center  destination_name                \n",
      "IND342902A1B        city11_place11_code11(Unkonwn11)    16\n",
      "dtype: int64\n",
      "destination_center  destination_name            \n",
      "IND577116AAA        city6_place6_code6(Unkonwn6)    16\n",
      "dtype: int64\n",
      "destination_center  destination_name            \n",
      "IND282002AAD        city1_place1_code1(Unkonwn1)    151\n",
      "dtype: int64\n",
      "destination_center  destination_name            \n",
      "IND465333A1B        city4_place4_code4(Unkonwn4)    3\n",
      "dtype: int64\n",
      "destination_center  destination_name                \n",
      "IND841301AAC        city12_place12_code12(Unkonwn12)    9\n",
      "dtype: int64\n",
      "destination_center  destination_name            \n",
      "IND505326AAB        city7_place7_code7(Unkonwn7)    11\n",
      "dtype: int64\n",
      "destination_center  destination_name            \n",
      "IND852118A1B        city8_place8_code8(Unkonwn8)    15\n",
      "dtype: int64\n",
      "destination_center  destination_name                \n",
      "IND126116AAA        city10_place10_code10(Unkonwn10)    10\n",
      "dtype: int64\n",
      "destination_center  destination_name            \n",
      "IND509103AAC        city9_place9_code9(Unkonwn9)    9\n",
      "dtype: int64\n",
      "destination_center  destination_name            \n",
      "IND221005A1A        city0_place0_code0(Unkonwn0)    1\n",
      "dtype: int64\n",
      "destination_center  destination_name            \n",
      "IND250002AAC        city2_place2_code2(Unkonwn2)    9\n",
      "dtype: int64\n",
      "destination_center  destination_name            \n",
      "IND331001A1C        city5_place5_code5(Unkonwn5)    3\n",
      "dtype: int64\n",
      "destination_center  destination_name            \n",
      "IND122015AAC        city3_place3_code3(Unkonwn3)    8\n",
      "dtype: int64\n"
     ]
    }
   ],
   "source": [
    "for id in ids_destination_name_null:\n",
    "    if id in dummy_values:\n",
    "        print(delhivery_data.loc[delhivery_data.destination_center == id, ['destination_center','destination_name']].value_counts())"
   ]
  },
  {
   "cell_type": "code",
   "execution_count": 25,
   "metadata": {},
   "outputs": [
    {
     "data": {
      "text/plain": [
       "0"
      ]
     },
     "execution_count": 25,
     "metadata": {},
     "output_type": "execute_result"
    }
   ],
   "source": [
    "delhivery_data.isnull().sum().sum()"
   ]
  },
  {
   "cell_type": "markdown",
   "metadata": {},
   "source": [
    "There are no null values we can proceed with analysis."
   ]
  },
  {
   "cell_type": "code",
   "execution_count": 26,
   "metadata": {},
   "outputs": [],
   "source": [
    "#Creating a copy of dataframe"
   ]
  },
  {
   "cell_type": "code",
   "execution_count": 27,
   "metadata": {},
   "outputs": [],
   "source": [
    "delhivery = delhivery_data.copy()"
   ]
  },
  {
   "cell_type": "code",
   "execution_count": 123,
   "metadata": {},
   "outputs": [
    {
     "data": {
      "text/html": [
       "<div>\n",
       "<style scoped>\n",
       "    .dataframe tbody tr th:only-of-type {\n",
       "        vertical-align: middle;\n",
       "    }\n",
       "\n",
       "    .dataframe tbody tr th {\n",
       "        vertical-align: top;\n",
       "    }\n",
       "\n",
       "    .dataframe thead th {\n",
       "        text-align: right;\n",
       "    }\n",
       "</style>\n",
       "<table border=\"1\" class=\"dataframe\">\n",
       "  <thead>\n",
       "    <tr style=\"text-align: right;\">\n",
       "      <th></th>\n",
       "      <th>data</th>\n",
       "      <th>trip_creation_time</th>\n",
       "      <th>route_schedule_uuid</th>\n",
       "      <th>route_type</th>\n",
       "      <th>trip_uuid</th>\n",
       "      <th>source_center</th>\n",
       "      <th>source_name</th>\n",
       "      <th>destination_center</th>\n",
       "      <th>destination_name</th>\n",
       "      <th>od_start_time</th>\n",
       "      <th>...</th>\n",
       "      <th>actual_time</th>\n",
       "      <th>osrm_time</th>\n",
       "      <th>osrm_distance</th>\n",
       "      <th>segment_actual_time</th>\n",
       "      <th>segment_osrm_time</th>\n",
       "      <th>segment_osrm_distance</th>\n",
       "      <th>segment_key</th>\n",
       "      <th>segment_actual_time_sum</th>\n",
       "      <th>segment_osrm_distance_sum</th>\n",
       "      <th>segment_osrm_time_sum</th>\n",
       "    </tr>\n",
       "  </thead>\n",
       "  <tbody>\n",
       "    <tr>\n",
       "      <th>0</th>\n",
       "      <td>training</td>\n",
       "      <td>2018-09-20 02:35:36.476840</td>\n",
       "      <td>thanos::sroute:eb7bfc78-b351-4c0e-a951-fa3d5c3...</td>\n",
       "      <td>Carting</td>\n",
       "      <td>trip-153741093647649320</td>\n",
       "      <td>IND388121AAA</td>\n",
       "      <td>Anand_VUNagar_DC (Gujarat)</td>\n",
       "      <td>IND388620AAB</td>\n",
       "      <td>Khambhat_MotvdDPP_D (Gujarat)</td>\n",
       "      <td>2018-09-20 03:21:32.418600</td>\n",
       "      <td>...</td>\n",
       "      <td>14.0</td>\n",
       "      <td>11.0</td>\n",
       "      <td>11.9653</td>\n",
       "      <td>14.0</td>\n",
       "      <td>11.0</td>\n",
       "      <td>11.9653</td>\n",
       "      <td>trip-153741093647649320IND388121AAAIND388620AAB</td>\n",
       "      <td>14.0</td>\n",
       "      <td>11.9653</td>\n",
       "      <td>11.0</td>\n",
       "    </tr>\n",
       "    <tr>\n",
       "      <th>1</th>\n",
       "      <td>training</td>\n",
       "      <td>2018-09-20 02:35:36.476840</td>\n",
       "      <td>thanos::sroute:eb7bfc78-b351-4c0e-a951-fa3d5c3...</td>\n",
       "      <td>Carting</td>\n",
       "      <td>trip-153741093647649320</td>\n",
       "      <td>IND388121AAA</td>\n",
       "      <td>Anand_VUNagar_DC (Gujarat)</td>\n",
       "      <td>IND388620AAB</td>\n",
       "      <td>Khambhat_MotvdDPP_D (Gujarat)</td>\n",
       "      <td>2018-09-20 03:21:32.418600</td>\n",
       "      <td>...</td>\n",
       "      <td>24.0</td>\n",
       "      <td>20.0</td>\n",
       "      <td>21.7243</td>\n",
       "      <td>10.0</td>\n",
       "      <td>9.0</td>\n",
       "      <td>9.7590</td>\n",
       "      <td>trip-153741093647649320IND388121AAAIND388620AAB</td>\n",
       "      <td>24.0</td>\n",
       "      <td>21.7243</td>\n",
       "      <td>20.0</td>\n",
       "    </tr>\n",
       "    <tr>\n",
       "      <th>2</th>\n",
       "      <td>training</td>\n",
       "      <td>2018-09-20 02:35:36.476840</td>\n",
       "      <td>thanos::sroute:eb7bfc78-b351-4c0e-a951-fa3d5c3...</td>\n",
       "      <td>Carting</td>\n",
       "      <td>trip-153741093647649320</td>\n",
       "      <td>IND388121AAA</td>\n",
       "      <td>Anand_VUNagar_DC (Gujarat)</td>\n",
       "      <td>IND388620AAB</td>\n",
       "      <td>Khambhat_MotvdDPP_D (Gujarat)</td>\n",
       "      <td>2018-09-20 03:21:32.418600</td>\n",
       "      <td>...</td>\n",
       "      <td>40.0</td>\n",
       "      <td>28.0</td>\n",
       "      <td>32.5395</td>\n",
       "      <td>16.0</td>\n",
       "      <td>7.0</td>\n",
       "      <td>10.8152</td>\n",
       "      <td>trip-153741093647649320IND388121AAAIND388620AAB</td>\n",
       "      <td>40.0</td>\n",
       "      <td>32.5395</td>\n",
       "      <td>27.0</td>\n",
       "    </tr>\n",
       "    <tr>\n",
       "      <th>3</th>\n",
       "      <td>training</td>\n",
       "      <td>2018-09-20 02:35:36.476840</td>\n",
       "      <td>thanos::sroute:eb7bfc78-b351-4c0e-a951-fa3d5c3...</td>\n",
       "      <td>Carting</td>\n",
       "      <td>trip-153741093647649320</td>\n",
       "      <td>IND388121AAA</td>\n",
       "      <td>Anand_VUNagar_DC (Gujarat)</td>\n",
       "      <td>IND388620AAB</td>\n",
       "      <td>Khambhat_MotvdDPP_D (Gujarat)</td>\n",
       "      <td>2018-09-20 03:21:32.418600</td>\n",
       "      <td>...</td>\n",
       "      <td>62.0</td>\n",
       "      <td>40.0</td>\n",
       "      <td>45.5620</td>\n",
       "      <td>21.0</td>\n",
       "      <td>12.0</td>\n",
       "      <td>13.0224</td>\n",
       "      <td>trip-153741093647649320IND388121AAAIND388620AAB</td>\n",
       "      <td>61.0</td>\n",
       "      <td>45.5619</td>\n",
       "      <td>39.0</td>\n",
       "    </tr>\n",
       "    <tr>\n",
       "      <th>4</th>\n",
       "      <td>training</td>\n",
       "      <td>2018-09-20 02:35:36.476840</td>\n",
       "      <td>thanos::sroute:eb7bfc78-b351-4c0e-a951-fa3d5c3...</td>\n",
       "      <td>Carting</td>\n",
       "      <td>trip-153741093647649320</td>\n",
       "      <td>IND388121AAA</td>\n",
       "      <td>Anand_VUNagar_DC (Gujarat)</td>\n",
       "      <td>IND388620AAB</td>\n",
       "      <td>Khambhat_MotvdDPP_D (Gujarat)</td>\n",
       "      <td>2018-09-20 03:21:32.418600</td>\n",
       "      <td>...</td>\n",
       "      <td>68.0</td>\n",
       "      <td>44.0</td>\n",
       "      <td>54.2181</td>\n",
       "      <td>6.0</td>\n",
       "      <td>5.0</td>\n",
       "      <td>3.9153</td>\n",
       "      <td>trip-153741093647649320IND388121AAAIND388620AAB</td>\n",
       "      <td>67.0</td>\n",
       "      <td>49.4772</td>\n",
       "      <td>44.0</td>\n",
       "    </tr>\n",
       "  </tbody>\n",
       "</table>\n",
       "<p>5 rows × 23 columns</p>\n",
       "</div>"
      ],
      "text/plain": [
       "       data         trip_creation_time  \\\n",
       "0  training 2018-09-20 02:35:36.476840   \n",
       "1  training 2018-09-20 02:35:36.476840   \n",
       "2  training 2018-09-20 02:35:36.476840   \n",
       "3  training 2018-09-20 02:35:36.476840   \n",
       "4  training 2018-09-20 02:35:36.476840   \n",
       "\n",
       "                                 route_schedule_uuid route_type  \\\n",
       "0  thanos::sroute:eb7bfc78-b351-4c0e-a951-fa3d5c3...    Carting   \n",
       "1  thanos::sroute:eb7bfc78-b351-4c0e-a951-fa3d5c3...    Carting   \n",
       "2  thanos::sroute:eb7bfc78-b351-4c0e-a951-fa3d5c3...    Carting   \n",
       "3  thanos::sroute:eb7bfc78-b351-4c0e-a951-fa3d5c3...    Carting   \n",
       "4  thanos::sroute:eb7bfc78-b351-4c0e-a951-fa3d5c3...    Carting   \n",
       "\n",
       "                 trip_uuid source_center                 source_name  \\\n",
       "0  trip-153741093647649320  IND388121AAA  Anand_VUNagar_DC (Gujarat)   \n",
       "1  trip-153741093647649320  IND388121AAA  Anand_VUNagar_DC (Gujarat)   \n",
       "2  trip-153741093647649320  IND388121AAA  Anand_VUNagar_DC (Gujarat)   \n",
       "3  trip-153741093647649320  IND388121AAA  Anand_VUNagar_DC (Gujarat)   \n",
       "4  trip-153741093647649320  IND388121AAA  Anand_VUNagar_DC (Gujarat)   \n",
       "\n",
       "  destination_center               destination_name  \\\n",
       "0       IND388620AAB  Khambhat_MotvdDPP_D (Gujarat)   \n",
       "1       IND388620AAB  Khambhat_MotvdDPP_D (Gujarat)   \n",
       "2       IND388620AAB  Khambhat_MotvdDPP_D (Gujarat)   \n",
       "3       IND388620AAB  Khambhat_MotvdDPP_D (Gujarat)   \n",
       "4       IND388620AAB  Khambhat_MotvdDPP_D (Gujarat)   \n",
       "\n",
       "               od_start_time  ... actual_time  osrm_time  osrm_distance  \\\n",
       "0 2018-09-20 03:21:32.418600  ...        14.0       11.0        11.9653   \n",
       "1 2018-09-20 03:21:32.418600  ...        24.0       20.0        21.7243   \n",
       "2 2018-09-20 03:21:32.418600  ...        40.0       28.0        32.5395   \n",
       "3 2018-09-20 03:21:32.418600  ...        62.0       40.0        45.5620   \n",
       "4 2018-09-20 03:21:32.418600  ...        68.0       44.0        54.2181   \n",
       "\n",
       "   segment_actual_time  segment_osrm_time  segment_osrm_distance  \\\n",
       "0                 14.0               11.0                11.9653   \n",
       "1                 10.0                9.0                 9.7590   \n",
       "2                 16.0                7.0                10.8152   \n",
       "3                 21.0               12.0                13.0224   \n",
       "4                  6.0                5.0                 3.9153   \n",
       "\n",
       "                                       segment_key  segment_actual_time_sum  \\\n",
       "0  trip-153741093647649320IND388121AAAIND388620AAB                     14.0   \n",
       "1  trip-153741093647649320IND388121AAAIND388620AAB                     24.0   \n",
       "2  trip-153741093647649320IND388121AAAIND388620AAB                     40.0   \n",
       "3  trip-153741093647649320IND388121AAAIND388620AAB                     61.0   \n",
       "4  trip-153741093647649320IND388121AAAIND388620AAB                     67.0   \n",
       "\n",
       "   segment_osrm_distance_sum segment_osrm_time_sum  \n",
       "0                    11.9653                  11.0  \n",
       "1                    21.7243                  20.0  \n",
       "2                    32.5395                  27.0  \n",
       "3                    45.5619                  39.0  \n",
       "4                    49.4772                  44.0  \n",
       "\n",
       "[5 rows x 23 columns]"
      ]
     },
     "execution_count": 123,
     "metadata": {},
     "output_type": "execute_result"
    }
   ],
   "source": [
    "delhivery.head()"
   ]
  },
  {
   "cell_type": "markdown",
   "metadata": {},
   "source": [
    "# Exploring each column to segregate categorical and numerical columns"
   ]
  },
  {
   "cell_type": "code",
   "execution_count": 29,
   "metadata": {},
   "outputs": [
    {
     "name": "stdout",
     "output_type": "stream",
     "text": [
      "<class 'pandas.core.frame.DataFrame'>\n",
      "RangeIndex: 144867 entries, 0 to 144866\n",
      "Data columns (total 19 columns):\n",
      " #   Column                          Non-Null Count   Dtype         \n",
      "---  ------                          --------------   -----         \n",
      " 0   data                            144867 non-null  object        \n",
      " 1   trip_creation_time              144867 non-null  datetime64[ns]\n",
      " 2   route_schedule_uuid             144867 non-null  object        \n",
      " 3   route_type                      144867 non-null  object        \n",
      " 4   trip_uuid                       144867 non-null  object        \n",
      " 5   source_center                   144867 non-null  object        \n",
      " 6   source_name                     144867 non-null  object        \n",
      " 7   destination_center              144867 non-null  object        \n",
      " 8   destination_name                144867 non-null  object        \n",
      " 9   od_start_time                   144867 non-null  datetime64[ns]\n",
      " 10  od_end_time                     144867 non-null  datetime64[ns]\n",
      " 11  start_scan_to_end_scan          144867 non-null  float64       \n",
      " 12  actual_distance_to_destination  144867 non-null  float64       \n",
      " 13  actual_time                     144867 non-null  float64       \n",
      " 14  osrm_time                       144867 non-null  float64       \n",
      " 15  osrm_distance                   144867 non-null  float64       \n",
      " 16  segment_actual_time             144867 non-null  float64       \n",
      " 17  segment_osrm_time               144867 non-null  float64       \n",
      " 18  segment_osrm_distance           144867 non-null  float64       \n",
      "dtypes: datetime64[ns](3), float64(8), object(8)\n",
      "memory usage: 21.0+ MB\n"
     ]
    }
   ],
   "source": [
    "delhivery.info()"
   ]
  },
  {
   "cell_type": "code",
   "execution_count": 30,
   "metadata": {},
   "outputs": [
    {
     "name": "stdout",
     "output_type": "stream",
     "text": [
      "-- 'data' field has ['training' 'test'] as unique values\n",
      "-- The 'trip_creation_time' for the data given is between 2018-09-12 and 2018-10-03 dates\n",
      "-- 'route_schedule_uuid' field has 1504 unique values\n",
      "-- 'route_type' field has ['Carting', 'FTL'] as unique values\n",
      "-- 'trip_uuid' field has 14817 unique values\n",
      "-- 'source_center' field has 1508 unique values\n",
      "-- 'source_name' field has 1508 unique values\n",
      "-- 'destination_center' field has 1481 unique values\n",
      "-- 'destination_name' field has 1481 unique values\n",
      "-- The 'od_start_time' for the data given is between 2018-09-12 and 2018-10-06 dates\n",
      "-- The 'od_end_time' for the data given is between 2018-09-12 and 2018-10-08 dates\n"
     ]
    }
   ],
   "source": [
    "print(\"-- 'data' field has\",delhivery.data.unique(),\"as unique values\")\n",
    "print(\"-- The 'trip_creation_time' for the data given is between\",delhivery.trip_creation_time.min().date(),\"and\",\n",
    "      delhivery.trip_creation_time.max().date(),\"dates\")\n",
    "\n",
    "print(\"-- 'route_schedule_uuid' field has\",len(list(delhivery.route_schedule_uuid.unique())),\"unique values\")\n",
    "\n",
    "print(\"-- 'route_type' field has\",list(delhivery.route_type.unique()),\"as unique values\")\n",
    "\n",
    "print(\"-- 'trip_uuid' field has\",len(list(delhivery.trip_uuid.unique())),\"unique values\")\n",
    "\n",
    "print(\"-- 'source_center' field has\",len(list(delhivery.source_center.unique())),\"unique values\")\n",
    "\n",
    "print(\"-- 'source_name' field has\",len(list(delhivery.source_name.unique())),\"unique values\")\n",
    "\n",
    "print(\"-- 'destination_center' field has\",len(list(delhivery.destination_center.unique())),\"unique values\")\n",
    "\n",
    "print(\"-- 'destination_name' field has\",len(list(delhivery.destination_name.unique())),\"unique values\")\n",
    "\n",
    "print(\"-- The 'od_start_time' for the data given is between\",delhivery.od_start_time.min().date(),\"and\",\n",
    "      delhivery.od_start_time.max().date(),\"dates\")\n",
    "\n",
    "print(\"-- The 'od_end_time' for the data given is between\",delhivery.od_end_time.min().date(),\"and\",\n",
    "      delhivery.od_end_time.max().date(),\"dates\")"
   ]
  },
  {
   "cell_type": "markdown",
   "metadata": {},
   "source": [
    "From the above obeservation 'data' and 'route_type' can be main categorical coulumns and all with nemerical values can be numerical fields."
   ]
  },
  {
   "cell_type": "code",
   "execution_count": 31,
   "metadata": {},
   "outputs": [],
   "source": [
    "cat_cols = ['data', 'route_type']\n",
    "delhivery[cat_cols]= delhivery[cat_cols].astype('category')"
   ]
  },
  {
   "cell_type": "code",
   "execution_count": 32,
   "metadata": {},
   "outputs": [
    {
     "data": {
      "text/plain": [
       "['start_scan_to_end_scan',\n",
       " 'actual_distance_to_destination',\n",
       " 'actual_time',\n",
       " 'osrm_time',\n",
       " 'osrm_distance',\n",
       " 'segment_actual_time',\n",
       " 'segment_osrm_time',\n",
       " 'segment_osrm_distance']"
      ]
     },
     "execution_count": 32,
     "metadata": {},
     "output_type": "execute_result"
    }
   ],
   "source": [
    "num_cols = list(delhivery.dtypes.reset_index()[delhivery.dtypes.reset_index()[0]=='float64']['index'])\n",
    "num_cols"
   ]
  },
  {
   "cell_type": "code",
   "execution_count": 33,
   "metadata": {},
   "outputs": [
    {
     "data": {
      "text/plain": [
       "data                                    category\n",
       "trip_creation_time                datetime64[ns]\n",
       "route_schedule_uuid                       object\n",
       "route_type                              category\n",
       "trip_uuid                                 object\n",
       "source_center                             object\n",
       "source_name                               object\n",
       "destination_center                        object\n",
       "destination_name                          object\n",
       "od_start_time                     datetime64[ns]\n",
       "od_end_time                       datetime64[ns]\n",
       "start_scan_to_end_scan                   float64\n",
       "actual_distance_to_destination           float64\n",
       "actual_time                              float64\n",
       "osrm_time                                float64\n",
       "osrm_distance                            float64\n",
       "segment_actual_time                      float64\n",
       "segment_osrm_time                        float64\n",
       "segment_osrm_distance                    float64\n",
       "dtype: object"
      ]
     },
     "execution_count": 33,
     "metadata": {},
     "output_type": "execute_result"
    }
   ],
   "source": [
    "delhivery.dtypes"
   ]
  },
  {
   "cell_type": "code",
   "execution_count": 34,
   "metadata": {},
   "outputs": [
    {
     "data": {
      "text/html": [
       "<div>\n",
       "<style scoped>\n",
       "    .dataframe tbody tr th:only-of-type {\n",
       "        vertical-align: middle;\n",
       "    }\n",
       "\n",
       "    .dataframe tbody tr th {\n",
       "        vertical-align: top;\n",
       "    }\n",
       "\n",
       "    .dataframe thead th {\n",
       "        text-align: right;\n",
       "    }\n",
       "</style>\n",
       "<table border=\"1\" class=\"dataframe\">\n",
       "  <thead>\n",
       "    <tr style=\"text-align: right;\">\n",
       "      <th></th>\n",
       "      <th>start_scan_to_end_scan</th>\n",
       "      <th>actual_distance_to_destination</th>\n",
       "      <th>actual_time</th>\n",
       "      <th>osrm_time</th>\n",
       "      <th>osrm_distance</th>\n",
       "      <th>segment_actual_time</th>\n",
       "      <th>segment_osrm_time</th>\n",
       "      <th>segment_osrm_distance</th>\n",
       "    </tr>\n",
       "  </thead>\n",
       "  <tbody>\n",
       "    <tr>\n",
       "      <th>count</th>\n",
       "      <td>144867.000000</td>\n",
       "      <td>144867.000000</td>\n",
       "      <td>144867.000000</td>\n",
       "      <td>144867.000000</td>\n",
       "      <td>144867.000000</td>\n",
       "      <td>144867.000000</td>\n",
       "      <td>144867.000000</td>\n",
       "      <td>144867.00000</td>\n",
       "    </tr>\n",
       "    <tr>\n",
       "      <th>mean</th>\n",
       "      <td>961.262986</td>\n",
       "      <td>234.073372</td>\n",
       "      <td>416.927527</td>\n",
       "      <td>213.868272</td>\n",
       "      <td>284.771297</td>\n",
       "      <td>36.196111</td>\n",
       "      <td>18.507548</td>\n",
       "      <td>22.82902</td>\n",
       "    </tr>\n",
       "    <tr>\n",
       "      <th>std</th>\n",
       "      <td>1037.012769</td>\n",
       "      <td>344.990009</td>\n",
       "      <td>598.103621</td>\n",
       "      <td>308.011085</td>\n",
       "      <td>421.119294</td>\n",
       "      <td>53.571158</td>\n",
       "      <td>14.775960</td>\n",
       "      <td>17.86066</td>\n",
       "    </tr>\n",
       "    <tr>\n",
       "      <th>min</th>\n",
       "      <td>20.000000</td>\n",
       "      <td>9.000045</td>\n",
       "      <td>9.000000</td>\n",
       "      <td>6.000000</td>\n",
       "      <td>9.008200</td>\n",
       "      <td>-244.000000</td>\n",
       "      <td>0.000000</td>\n",
       "      <td>0.00000</td>\n",
       "    </tr>\n",
       "    <tr>\n",
       "      <th>25%</th>\n",
       "      <td>161.000000</td>\n",
       "      <td>23.355874</td>\n",
       "      <td>51.000000</td>\n",
       "      <td>27.000000</td>\n",
       "      <td>29.914700</td>\n",
       "      <td>20.000000</td>\n",
       "      <td>11.000000</td>\n",
       "      <td>12.07010</td>\n",
       "    </tr>\n",
       "    <tr>\n",
       "      <th>50%</th>\n",
       "      <td>449.000000</td>\n",
       "      <td>66.126571</td>\n",
       "      <td>132.000000</td>\n",
       "      <td>64.000000</td>\n",
       "      <td>78.525800</td>\n",
       "      <td>29.000000</td>\n",
       "      <td>17.000000</td>\n",
       "      <td>23.51300</td>\n",
       "    </tr>\n",
       "    <tr>\n",
       "      <th>75%</th>\n",
       "      <td>1634.000000</td>\n",
       "      <td>286.708875</td>\n",
       "      <td>513.000000</td>\n",
       "      <td>257.000000</td>\n",
       "      <td>343.193250</td>\n",
       "      <td>40.000000</td>\n",
       "      <td>22.000000</td>\n",
       "      <td>27.81325</td>\n",
       "    </tr>\n",
       "    <tr>\n",
       "      <th>max</th>\n",
       "      <td>7898.000000</td>\n",
       "      <td>1927.447705</td>\n",
       "      <td>4532.000000</td>\n",
       "      <td>1686.000000</td>\n",
       "      <td>2326.199100</td>\n",
       "      <td>3051.000000</td>\n",
       "      <td>1611.000000</td>\n",
       "      <td>2191.40370</td>\n",
       "    </tr>\n",
       "  </tbody>\n",
       "</table>\n",
       "</div>"
      ],
      "text/plain": [
       "       start_scan_to_end_scan  actual_distance_to_destination    actual_time  \\\n",
       "count           144867.000000                   144867.000000  144867.000000   \n",
       "mean               961.262986                      234.073372     416.927527   \n",
       "std               1037.012769                      344.990009     598.103621   \n",
       "min                 20.000000                        9.000045       9.000000   \n",
       "25%                161.000000                       23.355874      51.000000   \n",
       "50%                449.000000                       66.126571     132.000000   \n",
       "75%               1634.000000                      286.708875     513.000000   \n",
       "max               7898.000000                     1927.447705    4532.000000   \n",
       "\n",
       "           osrm_time  osrm_distance  segment_actual_time  segment_osrm_time  \\\n",
       "count  144867.000000  144867.000000        144867.000000      144867.000000   \n",
       "mean      213.868272     284.771297            36.196111          18.507548   \n",
       "std       308.011085     421.119294            53.571158          14.775960   \n",
       "min         6.000000       9.008200          -244.000000           0.000000   \n",
       "25%        27.000000      29.914700            20.000000          11.000000   \n",
       "50%        64.000000      78.525800            29.000000          17.000000   \n",
       "75%       257.000000     343.193250            40.000000          22.000000   \n",
       "max      1686.000000    2326.199100          3051.000000        1611.000000   \n",
       "\n",
       "       segment_osrm_distance  \n",
       "count           144867.00000  \n",
       "mean                22.82902  \n",
       "std                 17.86066  \n",
       "min                  0.00000  \n",
       "25%                 12.07010  \n",
       "50%                 23.51300  \n",
       "75%                 27.81325  \n",
       "max               2191.40370  "
      ]
     },
     "execution_count": 34,
     "metadata": {},
     "output_type": "execute_result"
    }
   ],
   "source": [
    "delhivery.describe()"
   ]
  },
  {
   "cell_type": "code",
   "execution_count": 35,
   "metadata": {},
   "outputs": [
    {
     "data": {
      "text/html": [
       "<div>\n",
       "<style scoped>\n",
       "    .dataframe tbody tr th:only-of-type {\n",
       "        vertical-align: middle;\n",
       "    }\n",
       "\n",
       "    .dataframe tbody tr th {\n",
       "        vertical-align: top;\n",
       "    }\n",
       "\n",
       "    .dataframe thead th {\n",
       "        text-align: right;\n",
       "    }\n",
       "</style>\n",
       "<table border=\"1\" class=\"dataframe\">\n",
       "  <thead>\n",
       "    <tr style=\"text-align: right;\">\n",
       "      <th></th>\n",
       "      <th>data</th>\n",
       "      <th>route_schedule_uuid</th>\n",
       "      <th>route_type</th>\n",
       "      <th>trip_uuid</th>\n",
       "      <th>source_center</th>\n",
       "      <th>source_name</th>\n",
       "      <th>destination_center</th>\n",
       "      <th>destination_name</th>\n",
       "    </tr>\n",
       "  </thead>\n",
       "  <tbody>\n",
       "    <tr>\n",
       "      <th>count</th>\n",
       "      <td>144867</td>\n",
       "      <td>144867</td>\n",
       "      <td>144867</td>\n",
       "      <td>144867</td>\n",
       "      <td>144867</td>\n",
       "      <td>144867</td>\n",
       "      <td>144867</td>\n",
       "      <td>144867</td>\n",
       "    </tr>\n",
       "    <tr>\n",
       "      <th>unique</th>\n",
       "      <td>2</td>\n",
       "      <td>1504</td>\n",
       "      <td>2</td>\n",
       "      <td>14817</td>\n",
       "      <td>1508</td>\n",
       "      <td>1508</td>\n",
       "      <td>1481</td>\n",
       "      <td>1481</td>\n",
       "    </tr>\n",
       "    <tr>\n",
       "      <th>top</th>\n",
       "      <td>training</td>\n",
       "      <td>thanos::sroute:4029a8a2-6c74-4b7e-a6d8-f9e069f...</td>\n",
       "      <td>FTL</td>\n",
       "      <td>trip-153776597384821516</td>\n",
       "      <td>IND000000ACB</td>\n",
       "      <td>Gurgaon_Bilaspur_HB (Haryana)</td>\n",
       "      <td>IND000000ACB</td>\n",
       "      <td>Gurgaon_Bilaspur_HB (Haryana)</td>\n",
       "    </tr>\n",
       "    <tr>\n",
       "      <th>freq</th>\n",
       "      <td>104858</td>\n",
       "      <td>1812</td>\n",
       "      <td>99660</td>\n",
       "      <td>101</td>\n",
       "      <td>23347</td>\n",
       "      <td>23347</td>\n",
       "      <td>15192</td>\n",
       "      <td>15192</td>\n",
       "    </tr>\n",
       "  </tbody>\n",
       "</table>\n",
       "</div>"
      ],
      "text/plain": [
       "            data                                route_schedule_uuid  \\\n",
       "count     144867                                             144867   \n",
       "unique         2                                               1504   \n",
       "top     training  thanos::sroute:4029a8a2-6c74-4b7e-a6d8-f9e069f...   \n",
       "freq      104858                                               1812   \n",
       "\n",
       "       route_type                trip_uuid source_center  \\\n",
       "count      144867                   144867        144867   \n",
       "unique          2                    14817          1508   \n",
       "top           FTL  trip-153776597384821516  IND000000ACB   \n",
       "freq        99660                      101         23347   \n",
       "\n",
       "                          source_name destination_center  \\\n",
       "count                          144867             144867   \n",
       "unique                           1508               1481   \n",
       "top     Gurgaon_Bilaspur_HB (Haryana)       IND000000ACB   \n",
       "freq                            23347              15192   \n",
       "\n",
       "                     destination_name  \n",
       "count                          144867  \n",
       "unique                           1481  \n",
       "top     Gurgaon_Bilaspur_HB (Haryana)  \n",
       "freq                            15192  "
      ]
     },
     "execution_count": 35,
     "metadata": {},
     "output_type": "execute_result"
    }
   ],
   "source": [
    "delhivery.describe(include=['object','category'])"
   ]
  },
  {
   "cell_type": "markdown",
   "metadata": {},
   "source": [
    "From the above table we can observe that:\n",
    "\n",
    "    - The mode of 'data' field is 'training'\n",
    "    - With frequent 'route_type' as 'FTL'\n",
    "    - With top source and destinations as 'Gurgaon_Bilaspur_HB (Haryana)'"
   ]
  },
  {
   "cell_type": "markdown",
   "metadata": {},
   "source": [
    "# 2. MERGING ROWS AND AGGREGATING COLUMNS"
   ]
  },
  {
   "cell_type": "markdown",
   "metadata": {},
   "source": [
    "# Grouping by segment"
   ]
  },
  {
   "cell_type": "code",
   "execution_count": 36,
   "metadata": {},
   "outputs": [
    {
     "data": {
      "text/html": [
       "<div>\n",
       "<style scoped>\n",
       "    .dataframe tbody tr th:only-of-type {\n",
       "        vertical-align: middle;\n",
       "    }\n",
       "\n",
       "    .dataframe tbody tr th {\n",
       "        vertical-align: top;\n",
       "    }\n",
       "\n",
       "    .dataframe thead th {\n",
       "        text-align: right;\n",
       "    }\n",
       "</style>\n",
       "<table border=\"1\" class=\"dataframe\">\n",
       "  <thead>\n",
       "    <tr style=\"text-align: right;\">\n",
       "      <th></th>\n",
       "      <th>data</th>\n",
       "      <th>trip_creation_time</th>\n",
       "      <th>route_schedule_uuid</th>\n",
       "      <th>route_type</th>\n",
       "      <th>trip_uuid</th>\n",
       "      <th>source_center</th>\n",
       "      <th>source_name</th>\n",
       "      <th>destination_center</th>\n",
       "      <th>destination_name</th>\n",
       "      <th>od_start_time</th>\n",
       "      <th>od_end_time</th>\n",
       "      <th>start_scan_to_end_scan</th>\n",
       "      <th>actual_distance_to_destination</th>\n",
       "      <th>actual_time</th>\n",
       "      <th>osrm_time</th>\n",
       "      <th>osrm_distance</th>\n",
       "      <th>segment_actual_time</th>\n",
       "      <th>segment_osrm_time</th>\n",
       "      <th>segment_osrm_distance</th>\n",
       "    </tr>\n",
       "  </thead>\n",
       "  <tbody>\n",
       "    <tr>\n",
       "      <th>0</th>\n",
       "      <td>training</td>\n",
       "      <td>2018-09-20 02:35:36.476840</td>\n",
       "      <td>thanos::sroute:eb7bfc78-b351-4c0e-a951-fa3d5c3...</td>\n",
       "      <td>Carting</td>\n",
       "      <td>trip-153741093647649320</td>\n",
       "      <td>IND388121AAA</td>\n",
       "      <td>Anand_VUNagar_DC (Gujarat)</td>\n",
       "      <td>IND388620AAB</td>\n",
       "      <td>Khambhat_MotvdDPP_D (Gujarat)</td>\n",
       "      <td>2018-09-20 03:21:32.418600</td>\n",
       "      <td>2018-09-20 04:47:45.236797</td>\n",
       "      <td>86.0</td>\n",
       "      <td>10.435660</td>\n",
       "      <td>14.0</td>\n",
       "      <td>11.0</td>\n",
       "      <td>11.9653</td>\n",
       "      <td>14.0</td>\n",
       "      <td>11.0</td>\n",
       "      <td>11.9653</td>\n",
       "    </tr>\n",
       "    <tr>\n",
       "      <th>1</th>\n",
       "      <td>training</td>\n",
       "      <td>2018-09-20 02:35:36.476840</td>\n",
       "      <td>thanos::sroute:eb7bfc78-b351-4c0e-a951-fa3d5c3...</td>\n",
       "      <td>Carting</td>\n",
       "      <td>trip-153741093647649320</td>\n",
       "      <td>IND388121AAA</td>\n",
       "      <td>Anand_VUNagar_DC (Gujarat)</td>\n",
       "      <td>IND388620AAB</td>\n",
       "      <td>Khambhat_MotvdDPP_D (Gujarat)</td>\n",
       "      <td>2018-09-20 03:21:32.418600</td>\n",
       "      <td>2018-09-20 04:47:45.236797</td>\n",
       "      <td>86.0</td>\n",
       "      <td>18.936842</td>\n",
       "      <td>24.0</td>\n",
       "      <td>20.0</td>\n",
       "      <td>21.7243</td>\n",
       "      <td>10.0</td>\n",
       "      <td>9.0</td>\n",
       "      <td>9.7590</td>\n",
       "    </tr>\n",
       "    <tr>\n",
       "      <th>2</th>\n",
       "      <td>training</td>\n",
       "      <td>2018-09-20 02:35:36.476840</td>\n",
       "      <td>thanos::sroute:eb7bfc78-b351-4c0e-a951-fa3d5c3...</td>\n",
       "      <td>Carting</td>\n",
       "      <td>trip-153741093647649320</td>\n",
       "      <td>IND388121AAA</td>\n",
       "      <td>Anand_VUNagar_DC (Gujarat)</td>\n",
       "      <td>IND388620AAB</td>\n",
       "      <td>Khambhat_MotvdDPP_D (Gujarat)</td>\n",
       "      <td>2018-09-20 03:21:32.418600</td>\n",
       "      <td>2018-09-20 04:47:45.236797</td>\n",
       "      <td>86.0</td>\n",
       "      <td>27.637279</td>\n",
       "      <td>40.0</td>\n",
       "      <td>28.0</td>\n",
       "      <td>32.5395</td>\n",
       "      <td>16.0</td>\n",
       "      <td>7.0</td>\n",
       "      <td>10.8152</td>\n",
       "    </tr>\n",
       "    <tr>\n",
       "      <th>3</th>\n",
       "      <td>training</td>\n",
       "      <td>2018-09-20 02:35:36.476840</td>\n",
       "      <td>thanos::sroute:eb7bfc78-b351-4c0e-a951-fa3d5c3...</td>\n",
       "      <td>Carting</td>\n",
       "      <td>trip-153741093647649320</td>\n",
       "      <td>IND388121AAA</td>\n",
       "      <td>Anand_VUNagar_DC (Gujarat)</td>\n",
       "      <td>IND388620AAB</td>\n",
       "      <td>Khambhat_MotvdDPP_D (Gujarat)</td>\n",
       "      <td>2018-09-20 03:21:32.418600</td>\n",
       "      <td>2018-09-20 04:47:45.236797</td>\n",
       "      <td>86.0</td>\n",
       "      <td>36.118028</td>\n",
       "      <td>62.0</td>\n",
       "      <td>40.0</td>\n",
       "      <td>45.5620</td>\n",
       "      <td>21.0</td>\n",
       "      <td>12.0</td>\n",
       "      <td>13.0224</td>\n",
       "    </tr>\n",
       "    <tr>\n",
       "      <th>4</th>\n",
       "      <td>training</td>\n",
       "      <td>2018-09-20 02:35:36.476840</td>\n",
       "      <td>thanos::sroute:eb7bfc78-b351-4c0e-a951-fa3d5c3...</td>\n",
       "      <td>Carting</td>\n",
       "      <td>trip-153741093647649320</td>\n",
       "      <td>IND388121AAA</td>\n",
       "      <td>Anand_VUNagar_DC (Gujarat)</td>\n",
       "      <td>IND388620AAB</td>\n",
       "      <td>Khambhat_MotvdDPP_D (Gujarat)</td>\n",
       "      <td>2018-09-20 03:21:32.418600</td>\n",
       "      <td>2018-09-20 04:47:45.236797</td>\n",
       "      <td>86.0</td>\n",
       "      <td>39.386040</td>\n",
       "      <td>68.0</td>\n",
       "      <td>44.0</td>\n",
       "      <td>54.2181</td>\n",
       "      <td>6.0</td>\n",
       "      <td>5.0</td>\n",
       "      <td>3.9153</td>\n",
       "    </tr>\n",
       "  </tbody>\n",
       "</table>\n",
       "</div>"
      ],
      "text/plain": [
       "       data         trip_creation_time  \\\n",
       "0  training 2018-09-20 02:35:36.476840   \n",
       "1  training 2018-09-20 02:35:36.476840   \n",
       "2  training 2018-09-20 02:35:36.476840   \n",
       "3  training 2018-09-20 02:35:36.476840   \n",
       "4  training 2018-09-20 02:35:36.476840   \n",
       "\n",
       "                                 route_schedule_uuid route_type  \\\n",
       "0  thanos::sroute:eb7bfc78-b351-4c0e-a951-fa3d5c3...    Carting   \n",
       "1  thanos::sroute:eb7bfc78-b351-4c0e-a951-fa3d5c3...    Carting   \n",
       "2  thanos::sroute:eb7bfc78-b351-4c0e-a951-fa3d5c3...    Carting   \n",
       "3  thanos::sroute:eb7bfc78-b351-4c0e-a951-fa3d5c3...    Carting   \n",
       "4  thanos::sroute:eb7bfc78-b351-4c0e-a951-fa3d5c3...    Carting   \n",
       "\n",
       "                 trip_uuid source_center                 source_name  \\\n",
       "0  trip-153741093647649320  IND388121AAA  Anand_VUNagar_DC (Gujarat)   \n",
       "1  trip-153741093647649320  IND388121AAA  Anand_VUNagar_DC (Gujarat)   \n",
       "2  trip-153741093647649320  IND388121AAA  Anand_VUNagar_DC (Gujarat)   \n",
       "3  trip-153741093647649320  IND388121AAA  Anand_VUNagar_DC (Gujarat)   \n",
       "4  trip-153741093647649320  IND388121AAA  Anand_VUNagar_DC (Gujarat)   \n",
       "\n",
       "  destination_center               destination_name  \\\n",
       "0       IND388620AAB  Khambhat_MotvdDPP_D (Gujarat)   \n",
       "1       IND388620AAB  Khambhat_MotvdDPP_D (Gujarat)   \n",
       "2       IND388620AAB  Khambhat_MotvdDPP_D (Gujarat)   \n",
       "3       IND388620AAB  Khambhat_MotvdDPP_D (Gujarat)   \n",
       "4       IND388620AAB  Khambhat_MotvdDPP_D (Gujarat)   \n",
       "\n",
       "               od_start_time                od_end_time  \\\n",
       "0 2018-09-20 03:21:32.418600 2018-09-20 04:47:45.236797   \n",
       "1 2018-09-20 03:21:32.418600 2018-09-20 04:47:45.236797   \n",
       "2 2018-09-20 03:21:32.418600 2018-09-20 04:47:45.236797   \n",
       "3 2018-09-20 03:21:32.418600 2018-09-20 04:47:45.236797   \n",
       "4 2018-09-20 03:21:32.418600 2018-09-20 04:47:45.236797   \n",
       "\n",
       "   start_scan_to_end_scan  actual_distance_to_destination  actual_time  \\\n",
       "0                    86.0                       10.435660         14.0   \n",
       "1                    86.0                       18.936842         24.0   \n",
       "2                    86.0                       27.637279         40.0   \n",
       "3                    86.0                       36.118028         62.0   \n",
       "4                    86.0                       39.386040         68.0   \n",
       "\n",
       "   osrm_time  osrm_distance  segment_actual_time  segment_osrm_time  \\\n",
       "0       11.0        11.9653                 14.0               11.0   \n",
       "1       20.0        21.7243                 10.0                9.0   \n",
       "2       28.0        32.5395                 16.0                7.0   \n",
       "3       40.0        45.5620                 21.0               12.0   \n",
       "4       44.0        54.2181                  6.0                5.0   \n",
       "\n",
       "   segment_osrm_distance  \n",
       "0                11.9653  \n",
       "1                 9.7590  \n",
       "2                10.8152  \n",
       "3                13.0224  \n",
       "4                 3.9153  "
      ]
     },
     "execution_count": 36,
     "metadata": {},
     "output_type": "execute_result"
    }
   ],
   "source": [
    "delhivery.head()"
   ]
  },
  {
   "cell_type": "code",
   "execution_count": 37,
   "metadata": {},
   "outputs": [],
   "source": [
    "# grouping by trip_uuid, source_center, destination_center"
   ]
  },
  {
   "cell_type": "code",
   "execution_count": 38,
   "metadata": {},
   "outputs": [],
   "source": [
    "#creating segment_key for each segment \n",
    "delhivery['segment_key'] = delhivery['trip_uuid'] + delhivery['source_center'] + delhivery['destination_center']"
   ]
  },
  {
   "cell_type": "code",
   "execution_count": 39,
   "metadata": {},
   "outputs": [],
   "source": [
    "#segment_actual_time_sum,segment_osrm_distance_sum, segment_osrm_time_sum.\n",
    "delhivery['segment_actual_time_sum'] = delhivery.groupby('segment_key').agg(segment_actual_time_sum = ('segment_actual_time',np.cumsum))\n",
    "delhivery['segment_osrm_distance_sum'] = delhivery.groupby('segment_key').agg(segment_osrm_distance_sum = ('segment_osrm_distance',np.cumsum))\n",
    "delhivery['segment_osrm_time_sum'] = delhivery.groupby('segment_key').agg(segment_osrm_time_sum = ('segment_osrm_time',np.cumsum))"
   ]
  },
  {
   "cell_type": "code",
   "execution_count": 40,
   "metadata": {},
   "outputs": [
    {
     "data": {
      "text/html": [
       "<div>\n",
       "<style scoped>\n",
       "    .dataframe tbody tr th:only-of-type {\n",
       "        vertical-align: middle;\n",
       "    }\n",
       "\n",
       "    .dataframe tbody tr th {\n",
       "        vertical-align: top;\n",
       "    }\n",
       "\n",
       "    .dataframe thead th {\n",
       "        text-align: right;\n",
       "    }\n",
       "</style>\n",
       "<table border=\"1\" class=\"dataframe\">\n",
       "  <thead>\n",
       "    <tr style=\"text-align: right;\">\n",
       "      <th></th>\n",
       "      <th>actual_distance_to_destination</th>\n",
       "      <th>actual_time</th>\n",
       "    </tr>\n",
       "  </thead>\n",
       "  <tbody>\n",
       "    <tr>\n",
       "      <th>0</th>\n",
       "      <td>10.435660</td>\n",
       "      <td>14.0</td>\n",
       "    </tr>\n",
       "    <tr>\n",
       "      <th>1</th>\n",
       "      <td>18.936842</td>\n",
       "      <td>24.0</td>\n",
       "    </tr>\n",
       "    <tr>\n",
       "      <th>2</th>\n",
       "      <td>27.637279</td>\n",
       "      <td>40.0</td>\n",
       "    </tr>\n",
       "    <tr>\n",
       "      <th>3</th>\n",
       "      <td>36.118028</td>\n",
       "      <td>62.0</td>\n",
       "    </tr>\n",
       "    <tr>\n",
       "      <th>4</th>\n",
       "      <td>39.386040</td>\n",
       "      <td>68.0</td>\n",
       "    </tr>\n",
       "  </tbody>\n",
       "</table>\n",
       "</div>"
      ],
      "text/plain": [
       "   actual_distance_to_destination  actual_time\n",
       "0                       10.435660         14.0\n",
       "1                       18.936842         24.0\n",
       "2                       27.637279         40.0\n",
       "3                       36.118028         62.0\n",
       "4                       39.386040         68.0"
      ]
     },
     "execution_count": 40,
     "metadata": {},
     "output_type": "execute_result"
    }
   ],
   "source": [
    "delhivery.loc[delhivery.segment_key == 'trip-153741093647649320IND388121AAAIND388620AAB',['actual_distance_to_destination','actual_time']]"
   ]
  },
  {
   "cell_type": "markdown",
   "metadata": {},
   "source": [
    "# Aggregating at segment level"
   ]
  },
  {
   "cell_type": "code",
   "execution_count": 41,
   "metadata": {},
   "outputs": [],
   "source": [
    "create_segment_dict ={\n",
    "    'data' : 'first',\n",
    "    'trip_creation_time' : 'first',\n",
    "    'route_schedule_uuid' : 'first',\n",
    "    'route_type' : 'first',\n",
    "    'trip_uuid' : 'first',\n",
    "    'source_center' : 'first',\n",
    "    'source_name' : 'first',\n",
    "    \n",
    "    'destination_center' : 'last',\n",
    "    'destination_name' : 'last',\n",
    "    \n",
    "    'od_start_time' : 'first',\n",
    "    'od_end_time' : 'first',\n",
    "    'start_scan_to_end_scan' : 'first',\n",
    "    \n",
    "    'actual_distance_to_destination' : 'last',\n",
    "    'actual_time' : 'last',\n",
    "    \n",
    "    'osrm_time' : 'last',\n",
    "    'osrm_distance' : 'last',\n",
    "    \n",
    "    'segment_actual_time_sum' : 'last',\n",
    "    'segment_osrm_distance_sum' : 'last',\n",
    "    'segment_osrm_time_sum' : 'last',\n",
    "}"
   ]
  },
  {
   "cell_type": "code",
   "execution_count": 42,
   "metadata": {},
   "outputs": [],
   "source": [
    "#creating a segment_level dataframe named segment  grouped by segment_key and the aggregated values \n",
    "#as in create_segment_dic\n",
    "\n",
    "segment = delhivery.groupby('segment_key').agg(create_segment_dict).reset_index()"
   ]
  },
  {
   "cell_type": "code",
   "execution_count": 43,
   "metadata": {},
   "outputs": [],
   "source": [
    "#sorting segment by 'segment_key' and 'od_end_time' ensuring thatsegments within the same trip are ordered by their\n",
    "#end timesfrom earliest to latest.\n",
    "\n",
    "segment = segment.sort_values(by=['segment_key','od_end_time'], ascending=True).reset_index()"
   ]
  },
  {
   "cell_type": "code",
   "execution_count": 44,
   "metadata": {},
   "outputs": [
    {
     "name": "stdout",
     "output_type": "stream",
     "text": [
      "<class 'pandas.core.frame.DataFrame'>\n",
      "RangeIndex: 26368 entries, 0 to 26367\n",
      "Data columns (total 21 columns):\n",
      " #   Column                          Non-Null Count  Dtype         \n",
      "---  ------                          --------------  -----         \n",
      " 0   index                           26368 non-null  int64         \n",
      " 1   segment_key                     26368 non-null  object        \n",
      " 2   data                            26368 non-null  object        \n",
      " 3   trip_creation_time              26368 non-null  datetime64[ns]\n",
      " 4   route_schedule_uuid             26368 non-null  object        \n",
      " 5   route_type                      26368 non-null  object        \n",
      " 6   trip_uuid                       26368 non-null  object        \n",
      " 7   source_center                   26368 non-null  object        \n",
      " 8   source_name                     26368 non-null  object        \n",
      " 9   destination_center              26368 non-null  object        \n",
      " 10  destination_name                26368 non-null  object        \n",
      " 11  od_start_time                   26368 non-null  datetime64[ns]\n",
      " 12  od_end_time                     26368 non-null  datetime64[ns]\n",
      " 13  start_scan_to_end_scan          26368 non-null  float64       \n",
      " 14  actual_distance_to_destination  26368 non-null  float64       \n",
      " 15  actual_time                     26368 non-null  float64       \n",
      " 16  osrm_time                       26368 non-null  float64       \n",
      " 17  osrm_distance                   26368 non-null  float64       \n",
      " 18  segment_actual_time_sum         26368 non-null  float64       \n",
      " 19  segment_osrm_distance_sum       26368 non-null  float64       \n",
      " 20  segment_osrm_time_sum           26368 non-null  float64       \n",
      "dtypes: datetime64[ns](3), float64(8), int64(1), object(9)\n",
      "memory usage: 4.2+ MB\n"
     ]
    }
   ],
   "source": [
    "segment.info()"
   ]
  },
  {
   "cell_type": "markdown",
   "metadata": {},
   "source": [
    "# Grouping and Aggregating at trip level"
   ]
  },
  {
   "cell_type": "code",
   "execution_count": 45,
   "metadata": {},
   "outputs": [],
   "source": [
    "create_trip_dict ={\n",
    "    'data' : 'first',\n",
    "    'trip_creation_time' : 'first',\n",
    "    'route_schedule_uuid' : 'first',\n",
    "    'route_type' : 'first',\n",
    "    'trip_uuid' : 'first',\n",
    "    'source_center' : 'first',\n",
    "    'source_name' : 'first',\n",
    "    \n",
    "    'destination_center' : 'last',\n",
    "    'destination_name' : 'last',\n",
    "    \n",
    "    'od_start_time' : 'first',\n",
    "    'od_end_time' : 'first',\n",
    "    'start_scan_to_end_scan' : 'first',\n",
    "    \n",
    "    'actual_distance_to_destination' : 'last',\n",
    "    'actual_time' : 'last',\n",
    "    \n",
    "    'osrm_time' : 'last',\n",
    "    'osrm_distance' : 'last',\n",
    "    \n",
    "    'segment_actual_time_sum' : 'last',\n",
    "    'segment_osrm_distance_sum' : 'last',\n",
    "    'segment_osrm_time_sum' : 'last',\n",
    "}"
   ]
  },
  {
   "cell_type": "code",
   "execution_count": 46,
   "metadata": {},
   "outputs": [],
   "source": [
    "#creating a trip_level dataframe named trip grouped by trip_uuid and the aggregated values \n",
    "#as in create_trip_dic\n",
    "\n",
    "trip = segment.groupby('trip_uuid').agg(create_trip_dict).reset_index(drop=True)"
   ]
  },
  {
   "cell_type": "code",
   "execution_count": 47,
   "metadata": {},
   "outputs": [
    {
     "name": "stdout",
     "output_type": "stream",
     "text": [
      "<class 'pandas.core.frame.DataFrame'>\n",
      "RangeIndex: 14817 entries, 0 to 14816\n",
      "Data columns (total 19 columns):\n",
      " #   Column                          Non-Null Count  Dtype         \n",
      "---  ------                          --------------  -----         \n",
      " 0   data                            14817 non-null  object        \n",
      " 1   trip_creation_time              14817 non-null  datetime64[ns]\n",
      " 2   route_schedule_uuid             14817 non-null  object        \n",
      " 3   route_type                      14817 non-null  object        \n",
      " 4   trip_uuid                       14817 non-null  object        \n",
      " 5   source_center                   14817 non-null  object        \n",
      " 6   source_name                     14817 non-null  object        \n",
      " 7   destination_center              14817 non-null  object        \n",
      " 8   destination_name                14817 non-null  object        \n",
      " 9   od_start_time                   14817 non-null  datetime64[ns]\n",
      " 10  od_end_time                     14817 non-null  datetime64[ns]\n",
      " 11  start_scan_to_end_scan          14817 non-null  float64       \n",
      " 12  actual_distance_to_destination  14817 non-null  float64       \n",
      " 13  actual_time                     14817 non-null  float64       \n",
      " 14  osrm_time                       14817 non-null  float64       \n",
      " 15  osrm_distance                   14817 non-null  float64       \n",
      " 16  segment_actual_time_sum         14817 non-null  float64       \n",
      " 17  segment_osrm_distance_sum       14817 non-null  float64       \n",
      " 18  segment_osrm_time_sum           14817 non-null  float64       \n",
      "dtypes: datetime64[ns](3), float64(8), object(8)\n",
      "memory usage: 2.1+ MB\n"
     ]
    }
   ],
   "source": [
    "trip.info()"
   ]
  },
  {
   "cell_type": "code",
   "execution_count": 48,
   "metadata": {},
   "outputs": [],
   "source": [
    "#we can check for actual_time, osrm_time,osrm_distance of trip and cumulatives of segment using this trip dataframe\n",
    "# and check how far is the reality in sync with the osrm navigation system"
   ]
  },
  {
   "cell_type": "code",
   "execution_count": 49,
   "metadata": {},
   "outputs": [
    {
     "data": {
      "text/html": [
       "<div>\n",
       "<style scoped>\n",
       "    .dataframe tbody tr th:only-of-type {\n",
       "        vertical-align: middle;\n",
       "    }\n",
       "\n",
       "    .dataframe tbody tr th {\n",
       "        vertical-align: top;\n",
       "    }\n",
       "\n",
       "    .dataframe thead th {\n",
       "        text-align: right;\n",
       "    }\n",
       "</style>\n",
       "<table border=\"1\" class=\"dataframe\">\n",
       "  <thead>\n",
       "    <tr style=\"text-align: right;\">\n",
       "      <th></th>\n",
       "      <th>actual_time</th>\n",
       "      <th>segment_actual_time_sum</th>\n",
       "    </tr>\n",
       "  </thead>\n",
       "  <tbody>\n",
       "    <tr>\n",
       "      <th>0</th>\n",
       "      <td>830.0</td>\n",
       "      <td>820.0</td>\n",
       "    </tr>\n",
       "    <tr>\n",
       "      <th>1</th>\n",
       "      <td>96.0</td>\n",
       "      <td>95.0</td>\n",
       "    </tr>\n",
       "    <tr>\n",
       "      <th>2</th>\n",
       "      <td>2736.0</td>\n",
       "      <td>2700.0</td>\n",
       "    </tr>\n",
       "    <tr>\n",
       "      <th>3</th>\n",
       "      <td>59.0</td>\n",
       "      <td>59.0</td>\n",
       "    </tr>\n",
       "    <tr>\n",
       "      <th>4</th>\n",
       "      <td>63.0</td>\n",
       "      <td>63.0</td>\n",
       "    </tr>\n",
       "  </tbody>\n",
       "</table>\n",
       "</div>"
      ],
      "text/plain": [
       "   actual_time  segment_actual_time_sum\n",
       "0        830.0                    820.0\n",
       "1         96.0                     95.0\n",
       "2       2736.0                   2700.0\n",
       "3         59.0                     59.0\n",
       "4         63.0                     63.0"
      ]
     },
     "execution_count": 49,
     "metadata": {},
     "output_type": "execute_result"
    }
   ],
   "source": [
    "trip[['actual_time','segment_actual_time_sum']].head()"
   ]
  },
  {
   "cell_type": "code",
   "execution_count": 50,
   "metadata": {},
   "outputs": [
    {
     "data": {
      "text/html": [
       "<div>\n",
       "<style scoped>\n",
       "    .dataframe tbody tr th:only-of-type {\n",
       "        vertical-align: middle;\n",
       "    }\n",
       "\n",
       "    .dataframe tbody tr th {\n",
       "        vertical-align: top;\n",
       "    }\n",
       "\n",
       "    .dataframe thead th {\n",
       "        text-align: right;\n",
       "    }\n",
       "</style>\n",
       "<table border=\"1\" class=\"dataframe\">\n",
       "  <thead>\n",
       "    <tr style=\"text-align: right;\">\n",
       "      <th></th>\n",
       "      <th>osrm_time</th>\n",
       "      <th>segment_osrm_time_sum</th>\n",
       "    </tr>\n",
       "  </thead>\n",
       "  <tbody>\n",
       "    <tr>\n",
       "      <th>0</th>\n",
       "      <td>388.0</td>\n",
       "      <td>474.0</td>\n",
       "    </tr>\n",
       "    <tr>\n",
       "      <th>1</th>\n",
       "      <td>42.0</td>\n",
       "      <td>39.0</td>\n",
       "    </tr>\n",
       "    <tr>\n",
       "      <th>2</th>\n",
       "      <td>1528.0</td>\n",
       "      <td>1710.0</td>\n",
       "    </tr>\n",
       "    <tr>\n",
       "      <th>3</th>\n",
       "      <td>15.0</td>\n",
       "      <td>16.0</td>\n",
       "    </tr>\n",
       "    <tr>\n",
       "      <th>4</th>\n",
       "      <td>27.0</td>\n",
       "      <td>26.0</td>\n",
       "    </tr>\n",
       "  </tbody>\n",
       "</table>\n",
       "</div>"
      ],
      "text/plain": [
       "   osrm_time  segment_osrm_time_sum\n",
       "0      388.0                  474.0\n",
       "1       42.0                   39.0\n",
       "2     1528.0                 1710.0\n",
       "3       15.0                   16.0\n",
       "4       27.0                   26.0"
      ]
     },
     "execution_count": 50,
     "metadata": {},
     "output_type": "execute_result"
    }
   ],
   "source": [
    "trip[['osrm_time','segment_osrm_time_sum']].head()"
   ]
  },
  {
   "cell_type": "code",
   "execution_count": 51,
   "metadata": {},
   "outputs": [
    {
     "data": {
      "text/html": [
       "<div>\n",
       "<style scoped>\n",
       "    .dataframe tbody tr th:only-of-type {\n",
       "        vertical-align: middle;\n",
       "    }\n",
       "\n",
       "    .dataframe tbody tr th {\n",
       "        vertical-align: top;\n",
       "    }\n",
       "\n",
       "    .dataframe thead th {\n",
       "        text-align: right;\n",
       "    }\n",
       "</style>\n",
       "<table border=\"1\" class=\"dataframe\">\n",
       "  <thead>\n",
       "    <tr style=\"text-align: right;\">\n",
       "      <th></th>\n",
       "      <th>osrm_distance</th>\n",
       "      <th>segment_osrm_distance_sum</th>\n",
       "    </tr>\n",
       "  </thead>\n",
       "  <tbody>\n",
       "    <tr>\n",
       "      <th>0</th>\n",
       "      <td>544.8027</td>\n",
       "      <td>649.8528</td>\n",
       "    </tr>\n",
       "    <tr>\n",
       "      <th>1</th>\n",
       "      <td>56.9116</td>\n",
       "      <td>55.9899</td>\n",
       "    </tr>\n",
       "    <tr>\n",
       "      <th>2</th>\n",
       "      <td>2072.8556</td>\n",
       "      <td>2227.5270</td>\n",
       "    </tr>\n",
       "    <tr>\n",
       "      <th>3</th>\n",
       "      <td>19.6800</td>\n",
       "      <td>19.8766</td>\n",
       "    </tr>\n",
       "    <tr>\n",
       "      <th>4</th>\n",
       "      <td>29.5696</td>\n",
       "      <td>29.5697</td>\n",
       "    </tr>\n",
       "  </tbody>\n",
       "</table>\n",
       "</div>"
      ],
      "text/plain": [
       "   osrm_distance  segment_osrm_distance_sum\n",
       "0       544.8027                   649.8528\n",
       "1        56.9116                    55.9899\n",
       "2      2072.8556                  2227.5270\n",
       "3        19.6800                    19.8766\n",
       "4        29.5696                    29.5697"
      ]
     },
     "execution_count": 51,
     "metadata": {},
     "output_type": "execute_result"
    }
   ],
   "source": [
    "trip[['osrm_distance','segment_osrm_distance_sum']].head()"
   ]
  },
  {
   "cell_type": "markdown",
   "metadata": {},
   "source": [
    "# 3. FEATURE ENGINEERING"
   ]
  },
  {
   "cell_type": "code",
   "execution_count": 52,
   "metadata": {},
   "outputs": [],
   "source": [
    "# Creating new field od_time_diff_hour(time in mins) -time taken between od_start_time and od_end_time"
   ]
  },
  {
   "cell_type": "code",
   "execution_count": 53,
   "metadata": {},
   "outputs": [],
   "source": [
    "trip['od_total_time'] = (trip['od_end_time']-trip['od_start_time']).dt.total_seconds()/60"
   ]
  },
  {
   "cell_type": "code",
   "execution_count": 54,
   "metadata": {},
   "outputs": [],
   "source": [
    "#dropping fields od_start_time and od_end_time"
   ]
  },
  {
   "cell_type": "code",
   "execution_count": 55,
   "metadata": {},
   "outputs": [],
   "source": [
    "trip = trip.drop(['od_start_time','od_end_time'], axis = 1)"
   ]
  },
  {
   "cell_type": "markdown",
   "metadata": {},
   "source": [
    "# Split and extract features out of source_name and destination_name"
   ]
  },
  {
   "cell_type": "code",
   "execution_count": 56,
   "metadata": {},
   "outputs": [],
   "source": [
    "def location_to_state(loc):\n",
    "   return loc.split('(')[1][:-1]"
   ]
  },
  {
   "cell_type": "code",
   "execution_count": 57,
   "metadata": {},
   "outputs": [],
   "source": [
    "def location_to_city(loc):\n",
    "    l = loc.split('(')[0].split('_')[0]\n",
    "    if 'CCU' in loc:\n",
    "        return 'Kolkata'\n",
    "    elif 'MAA' in loc.upper():\n",
    "        return 'Chennai'\n",
    "    elif ('HBR' in loc.upper()) or ('BLR' in loc.upper()):\n",
    "        return 'Bengaluru'\n",
    "    elif 'FBD' in loc.upper():\n",
    "        return 'Faridabad'\n",
    "    elif 'BOM' in loc.upper():\n",
    "        return 'Mumbai'\n",
    "    elif 'DEL' in loc.upper():\n",
    "        return 'Delhi'\n",
    "    elif 'OK' in loc.upper():\n",
    "        return 'Delhi'\n",
    "    elif 'GZB' in loc.upper():\n",
    "        return 'Ghaziabad'\n",
    "    elif 'GGN' in loc.upper():\n",
    "        return 'Gurgaon'\n",
    "    elif 'AMD' in loc.upper():\n",
    "        return 'Ahmedabad'\n",
    "    elif 'CJB' in loc.upper():\n",
    "        return 'Coimbatore'\n",
    "    elif 'HYD' in loc.upper():\n",
    "        return 'Hyderabad'\n",
    "    return l"
   ]
  },
  {
   "cell_type": "code",
   "execution_count": 58,
   "metadata": {},
   "outputs": [],
   "source": [
    "def location_to_place(loc):\n",
    "    if 'HBR' in loc:\n",
    "        return 'HBR Layout PC'\n",
    "    else:\n",
    "             # we will remove state\n",
    "        loc = loc.split('(')[0]\n",
    "\n",
    "        len_ = len(loc.split('_'))\n",
    "\n",
    "        if len_ >= 3:\n",
    "            return loc.split('_')[1]\n",
    "\n",
    "        # small cities have same city and place name\n",
    "        if len_ == 2:\n",
    "            return loc.split('_')[0]\n",
    "\n",
    "        return loc.split(' ')[0]"
   ]
  },
  {
   "cell_type": "code",
   "execution_count": 59,
   "metadata": {},
   "outputs": [],
   "source": [
    "def location_to_code(loc):\n",
    "    # we will remove state\n",
    "    loc = loc.split('(')[0]\n",
    "\n",
    "    if len(loc.split('_')) >= 3:\n",
    "        return loc.split('_')[-1]\n",
    "\n",
    "    return 'none'"
   ]
  },
  {
   "cell_type": "code",
   "execution_count": 60,
   "metadata": {},
   "outputs": [],
   "source": [
    "trip['destination_state'] = trip['destination_name'].apply(lambda x: location_to_state(x))\n",
    "trip['destination_city']  = trip['destination_name'].apply(lambda x: location_to_city(x))\n",
    "trip['destination_place'] = trip['destination_name'].apply(lambda x: location_to_place(x))\n",
    "trip['destination_code']  = trip['destination_name'].apply(lambda x: location_to_code(x))"
   ]
  },
  {
   "cell_type": "code",
   "execution_count": 61,
   "metadata": {},
   "outputs": [
    {
     "data": {
      "text/html": [
       "<div>\n",
       "<style scoped>\n",
       "    .dataframe tbody tr th:only-of-type {\n",
       "        vertical-align: middle;\n",
       "    }\n",
       "\n",
       "    .dataframe tbody tr th {\n",
       "        vertical-align: top;\n",
       "    }\n",
       "\n",
       "    .dataframe thead th {\n",
       "        text-align: right;\n",
       "    }\n",
       "</style>\n",
       "<table border=\"1\" class=\"dataframe\">\n",
       "  <thead>\n",
       "    <tr style=\"text-align: right;\">\n",
       "      <th></th>\n",
       "      <th>destination_state</th>\n",
       "      <th>destination_city</th>\n",
       "      <th>destination_place</th>\n",
       "      <th>destination_code</th>\n",
       "    </tr>\n",
       "  </thead>\n",
       "  <tbody>\n",
       "    <tr>\n",
       "      <th>0</th>\n",
       "      <td>Uttar Pradesh</td>\n",
       "      <td>Kanpur</td>\n",
       "      <td>Central</td>\n",
       "      <td>6</td>\n",
       "    </tr>\n",
       "    <tr>\n",
       "      <th>1</th>\n",
       "      <td>Karnataka</td>\n",
       "      <td>Doddablpur</td>\n",
       "      <td>ChikaDPP</td>\n",
       "      <td>D</td>\n",
       "    </tr>\n",
       "    <tr>\n",
       "      <th>2</th>\n",
       "      <td>Haryana</td>\n",
       "      <td>Gurgaon</td>\n",
       "      <td>Bilaspur</td>\n",
       "      <td>HB</td>\n",
       "    </tr>\n",
       "    <tr>\n",
       "      <th>3</th>\n",
       "      <td>Maharashtra</td>\n",
       "      <td>Mumbai</td>\n",
       "      <td>MiraRd</td>\n",
       "      <td>IP</td>\n",
       "    </tr>\n",
       "    <tr>\n",
       "      <th>4</th>\n",
       "      <td>Karnataka</td>\n",
       "      <td>Sandur</td>\n",
       "      <td>WrdN1DPP</td>\n",
       "      <td>D</td>\n",
       "    </tr>\n",
       "  </tbody>\n",
       "</table>\n",
       "</div>"
      ],
      "text/plain": [
       "  destination_state destination_city destination_place destination_code\n",
       "0     Uttar Pradesh           Kanpur           Central               6 \n",
       "1         Karnataka       Doddablpur          ChikaDPP               D \n",
       "2           Haryana          Gurgaon          Bilaspur              HB \n",
       "3       Maharashtra           Mumbai            MiraRd              IP \n",
       "4         Karnataka           Sandur          WrdN1DPP               D "
      ]
     },
     "execution_count": 61,
     "metadata": {},
     "output_type": "execute_result"
    }
   ],
   "source": [
    "trip[['destination_state','destination_city','destination_place','destination_code']].head()"
   ]
  },
  {
   "cell_type": "code",
   "execution_count": 62,
   "metadata": {},
   "outputs": [],
   "source": [
    "trip['source_state'] = trip['source_name'].apply(lambda x: location_to_state(x))\n",
    "trip['source_city']  = trip['source_name'].apply(lambda x: location_to_city(x))\n",
    "trip['source_place'] = trip['source_name'].apply(lambda x: location_to_place(x))\n",
    "trip['source_code']  = trip['source_name'].apply(lambda x: location_to_code(x))"
   ]
  },
  {
   "cell_type": "code",
   "execution_count": 63,
   "metadata": {},
   "outputs": [
    {
     "data": {
      "text/html": [
       "<div>\n",
       "<style scoped>\n",
       "    .dataframe tbody tr th:only-of-type {\n",
       "        vertical-align: middle;\n",
       "    }\n",
       "\n",
       "    .dataframe tbody tr th {\n",
       "        vertical-align: top;\n",
       "    }\n",
       "\n",
       "    .dataframe thead th {\n",
       "        text-align: right;\n",
       "    }\n",
       "</style>\n",
       "<table border=\"1\" class=\"dataframe\">\n",
       "  <thead>\n",
       "    <tr style=\"text-align: right;\">\n",
       "      <th></th>\n",
       "      <th>source_state</th>\n",
       "      <th>source_city</th>\n",
       "      <th>source_place</th>\n",
       "      <th>source_code</th>\n",
       "    </tr>\n",
       "  </thead>\n",
       "  <tbody>\n",
       "    <tr>\n",
       "      <th>0</th>\n",
       "      <td>Uttar Pradesh</td>\n",
       "      <td>Kanpur</td>\n",
       "      <td>Central</td>\n",
       "      <td>6</td>\n",
       "    </tr>\n",
       "    <tr>\n",
       "      <th>1</th>\n",
       "      <td>Karnataka</td>\n",
       "      <td>Doddablpur</td>\n",
       "      <td>ChikaDPP</td>\n",
       "      <td>D</td>\n",
       "    </tr>\n",
       "    <tr>\n",
       "      <th>2</th>\n",
       "      <td>Haryana</td>\n",
       "      <td>Gurgaon</td>\n",
       "      <td>Bilaspur</td>\n",
       "      <td>HB</td>\n",
       "    </tr>\n",
       "    <tr>\n",
       "      <th>3</th>\n",
       "      <td>Maharashtra</td>\n",
       "      <td>Mumbai Hub</td>\n",
       "      <td>Mumbai</td>\n",
       "      <td>none</td>\n",
       "    </tr>\n",
       "    <tr>\n",
       "      <th>4</th>\n",
       "      <td>Karnataka</td>\n",
       "      <td>Bellary</td>\n",
       "      <td>Bellary</td>\n",
       "      <td>none</td>\n",
       "    </tr>\n",
       "  </tbody>\n",
       "</table>\n",
       "</div>"
      ],
      "text/plain": [
       "    source_state  source_city source_place source_code\n",
       "0  Uttar Pradesh       Kanpur      Central          6 \n",
       "1      Karnataka   Doddablpur     ChikaDPP          D \n",
       "2        Haryana      Gurgaon     Bilaspur         HB \n",
       "3    Maharashtra  Mumbai Hub        Mumbai        none\n",
       "4      Karnataka      Bellary      Bellary        none"
      ]
     },
     "execution_count": 63,
     "metadata": {},
     "output_type": "execute_result"
    }
   ],
   "source": [
    "trip[['source_state','source_city','source_place','source_code']].head()"
   ]
  },
  {
   "cell_type": "markdown",
   "metadata": {},
   "source": [
    "# Splitting trip_creation_time according to year, month, day and hour"
   ]
  },
  {
   "cell_type": "code",
   "execution_count": 64,
   "metadata": {},
   "outputs": [],
   "source": [
    "trip['trip_creation_year'] = trip['trip_creation_time'].dt.year\n",
    "trip['trip_creation_month']= trip['trip_creation_time'].dt.month\n",
    "trip['trip_creation_day'] = trip['trip_creation_time'].dt.day\n",
    "trip['trip_creation_hour'] = trip['trip_creation_time'].dt.hour\n"
   ]
  },
  {
   "cell_type": "code",
   "execution_count": 65,
   "metadata": {},
   "outputs": [
    {
     "data": {
      "text/html": [
       "<div>\n",
       "<style scoped>\n",
       "    .dataframe tbody tr th:only-of-type {\n",
       "        vertical-align: middle;\n",
       "    }\n",
       "\n",
       "    .dataframe tbody tr th {\n",
       "        vertical-align: top;\n",
       "    }\n",
       "\n",
       "    .dataframe thead th {\n",
       "        text-align: right;\n",
       "    }\n",
       "</style>\n",
       "<table border=\"1\" class=\"dataframe\">\n",
       "  <thead>\n",
       "    <tr style=\"text-align: right;\">\n",
       "      <th></th>\n",
       "      <th>trip_creation_time</th>\n",
       "      <th>trip_creation_year</th>\n",
       "      <th>trip_creation_month</th>\n",
       "      <th>trip_creation_day</th>\n",
       "      <th>trip_creation_hour</th>\n",
       "    </tr>\n",
       "  </thead>\n",
       "  <tbody>\n",
       "    <tr>\n",
       "      <th>0</th>\n",
       "      <td>2018-09-12 00:00:16.535741</td>\n",
       "      <td>2018</td>\n",
       "      <td>9</td>\n",
       "      <td>12</td>\n",
       "      <td>0</td>\n",
       "    </tr>\n",
       "    <tr>\n",
       "      <th>1</th>\n",
       "      <td>2018-09-12 00:00:22.886430</td>\n",
       "      <td>2018</td>\n",
       "      <td>9</td>\n",
       "      <td>12</td>\n",
       "      <td>0</td>\n",
       "    </tr>\n",
       "    <tr>\n",
       "      <th>2</th>\n",
       "      <td>2018-09-12 00:00:33.691250</td>\n",
       "      <td>2018</td>\n",
       "      <td>9</td>\n",
       "      <td>12</td>\n",
       "      <td>0</td>\n",
       "    </tr>\n",
       "    <tr>\n",
       "      <th>3</th>\n",
       "      <td>2018-09-12 00:01:00.113710</td>\n",
       "      <td>2018</td>\n",
       "      <td>9</td>\n",
       "      <td>12</td>\n",
       "      <td>0</td>\n",
       "    </tr>\n",
       "    <tr>\n",
       "      <th>4</th>\n",
       "      <td>2018-09-12 00:02:09.740725</td>\n",
       "      <td>2018</td>\n",
       "      <td>9</td>\n",
       "      <td>12</td>\n",
       "      <td>0</td>\n",
       "    </tr>\n",
       "  </tbody>\n",
       "</table>\n",
       "</div>"
      ],
      "text/plain": [
       "          trip_creation_time  trip_creation_year  trip_creation_month  \\\n",
       "0 2018-09-12 00:00:16.535741                2018                    9   \n",
       "1 2018-09-12 00:00:22.886430                2018                    9   \n",
       "2 2018-09-12 00:00:33.691250                2018                    9   \n",
       "3 2018-09-12 00:01:00.113710                2018                    9   \n",
       "4 2018-09-12 00:02:09.740725                2018                    9   \n",
       "\n",
       "   trip_creation_day  trip_creation_hour  \n",
       "0                 12                   0  \n",
       "1                 12                   0  \n",
       "2                 12                   0  \n",
       "3                 12                   0  \n",
       "4                 12                   0  "
      ]
     },
     "execution_count": 65,
     "metadata": {},
     "output_type": "execute_result"
    }
   ],
   "source": [
    "trip[['trip_creation_time','trip_creation_year','trip_creation_month','trip_creation_day','trip_creation_hour']].head()"
   ]
  },
  {
   "cell_type": "code",
   "execution_count": null,
   "metadata": {},
   "outputs": [],
   "source": []
  },
  {
   "cell_type": "markdown",
   "metadata": {},
   "source": [
    "# 4. IN-DEPTH ANALYSIS"
   ]
  },
  {
   "cell_type": "markdown",
   "metadata": {},
   "source": [
    "# Calculate the time taken between od_start_time and od_end_time and keep it as a feature."
   ]
  },
  {
   "cell_type": "code",
   "execution_count": 66,
   "metadata": {},
   "outputs": [
    {
     "data": {
      "text/plain": [
       "0        1260.604421\n",
       "1          58.832388\n",
       "2         834.638929\n",
       "3         100.494935\n",
       "4         152.012914\n",
       "            ...     \n",
       "14812     152.787843\n",
       "14813      60.590521\n",
       "14814     248.409092\n",
       "14815     105.656951\n",
       "14816     287.474007\n",
       "Name: od_total_time, Length: 14817, dtype: float64"
      ]
     },
     "execution_count": 66,
     "metadata": {},
     "output_type": "execute_result"
    }
   ],
   "source": [
    "trip['od_total_time']"
   ]
  },
  {
   "cell_type": "code",
   "execution_count": 67,
   "metadata": {},
   "outputs": [
    {
     "name": "stdout",
     "output_type": "stream",
     "text": [
      "<class 'pandas.core.frame.DataFrame'>\n",
      "RangeIndex: 14817 entries, 0 to 14816\n",
      "Data columns (total 30 columns):\n",
      " #   Column                          Non-Null Count  Dtype         \n",
      "---  ------                          --------------  -----         \n",
      " 0   data                            14817 non-null  object        \n",
      " 1   trip_creation_time              14817 non-null  datetime64[ns]\n",
      " 2   route_schedule_uuid             14817 non-null  object        \n",
      " 3   route_type                      14817 non-null  object        \n",
      " 4   trip_uuid                       14817 non-null  object        \n",
      " 5   source_center                   14817 non-null  object        \n",
      " 6   source_name                     14817 non-null  object        \n",
      " 7   destination_center              14817 non-null  object        \n",
      " 8   destination_name                14817 non-null  object        \n",
      " 9   start_scan_to_end_scan          14817 non-null  float64       \n",
      " 10  actual_distance_to_destination  14817 non-null  float64       \n",
      " 11  actual_time                     14817 non-null  float64       \n",
      " 12  osrm_time                       14817 non-null  float64       \n",
      " 13  osrm_distance                   14817 non-null  float64       \n",
      " 14  segment_actual_time_sum         14817 non-null  float64       \n",
      " 15  segment_osrm_distance_sum       14817 non-null  float64       \n",
      " 16  segment_osrm_time_sum           14817 non-null  float64       \n",
      " 17  od_total_time                   14817 non-null  float64       \n",
      " 18  destination_state               14817 non-null  object        \n",
      " 19  destination_city                14817 non-null  object        \n",
      " 20  destination_place               14817 non-null  object        \n",
      " 21  destination_code                14817 non-null  object        \n",
      " 22  source_state                    14817 non-null  object        \n",
      " 23  source_city                     14817 non-null  object        \n",
      " 24  source_place                    14817 non-null  object        \n",
      " 25  source_code                     14817 non-null  object        \n",
      " 26  trip_creation_year              14817 non-null  int64         \n",
      " 27  trip_creation_month             14817 non-null  int64         \n",
      " 28  trip_creation_day               14817 non-null  int64         \n",
      " 29  trip_creation_hour              14817 non-null  int64         \n",
      "dtypes: datetime64[ns](1), float64(9), int64(4), object(16)\n",
      "memory usage: 3.4+ MB\n"
     ]
    }
   ],
   "source": [
    "trip.info()"
   ]
  },
  {
   "cell_type": "code",
   "execution_count": 68,
   "metadata": {},
   "outputs": [
    {
     "data": {
      "text/plain": [
       "['start_scan_to_end_scan',\n",
       " 'actual_distance_to_destination',\n",
       " 'actual_time',\n",
       " 'osrm_time',\n",
       " 'osrm_distance',\n",
       " 'segment_actual_time_sum',\n",
       " 'segment_osrm_distance_sum',\n",
       " 'segment_osrm_time_sum',\n",
       " 'od_total_time']"
      ]
     },
     "execution_count": 68,
     "metadata": {},
     "output_type": "execute_result"
    }
   ],
   "source": [
    "trip_num_cols = list(trip.dtypes.reset_index()[(trip.dtypes.reset_index()[0]=='float64')]['index'])\n",
    "trip_num_cols"
   ]
  },
  {
   "cell_type": "code",
   "execution_count": 69,
   "metadata": {},
   "outputs": [
    {
     "data": {
      "image/png": "[encoded data removed]",
      "text/plain": [
       "<Figure size 720x504 with 1 Axes>"
      ]
     },
     "metadata": {},
     "output_type": "display_data"
    },
    {
     "data": {
      "image/png": "[encoded data removed]",
      "text/plain": [
       "<Figure size 720x504 with 1 Axes>"
      ]
     },
     "metadata": {},
     "output_type": "display_data"
    }
   ],
   "source": [
    "for col in cat_cols:\n",
    "    fig = plt.figure(figsize=(10,7))\n",
    "    plt.pie(trip[col].value_counts().values, labels = list(trip[col].value_counts().index), autopct='%.0f%%', shadow= True, \n",
    "                startangle = 90)\n",
    "    plt.title(f\"{col} Percentage\", fontsize=15)\n",
    "    plt.show()"
   ]
  },
  {
   "cell_type": "markdown",
   "metadata": {},
   "source": [
    "Insight:\n",
    "\n",
    "    Training data is more than testing data.\n",
    "    60% of trasportation type is carting and 40% is Full Truck Load (FTL)."
   ]
  },
  {
   "cell_type": "markdown",
   "metadata": {},
   "source": [
    "# Outlier detection and treatment"
   ]
  },
  {
   "cell_type": "code",
   "execution_count": 70,
   "metadata": {},
   "outputs": [
    {
     "data": {
      "image/png": "[encoded data removed]",
      "text/plain": [
       "<Figure size 1440x2160 with 9 Axes>"
      ]
     },
     "metadata": {
      "needs_background": "light"
     },
     "output_type": "display_data"
    }
   ],
   "source": [
    "plt.figure(figsize=(20,30))\n",
    "for i,col in enumerate(trip_num_cols):\n",
    "    plt.subplot(int(len(trip_num_cols)/2)+1, 2, i+1)\n",
    "    sns.boxplot(x= trip[col])\n",
    "    plt.xlabel(col, fontsize=15)\n",
    "plt.show()"
   ]
  },
  {
   "cell_type": "markdown",
   "metadata": {},
   "source": [
    "There are many outliers in all the neumerical columns which should be treated."
   ]
  },
  {
   "cell_type": "code",
   "execution_count": 71,
   "metadata": {},
   "outputs": [
    {
     "name": "stdout",
     "output_type": "stream",
     "text": [
      "Column: start_scan_to_end_scan\n",
      "Q1: 104.0\n",
      "Q3: 334.0\n",
      "LB: -241.0\n",
      "UB: 679.0\n",
      "IQR: 230.0\n",
      "Outliers: 1588\n",
      "-------------------------\n",
      "Column: actual_distance_to_destination\n",
      "Q1: 20.098971767647946\n",
      "Q3: 65.81230959743395\n",
      "LB: -48.47103497703106\n",
      "UB: 134.38231634211297\n",
      "IQR: 45.713337829786006\n",
      "Outliers: 2132\n",
      "-------------------------\n",
      "Column: actual_time\n",
      "Q1: 51.0\n",
      "Q3: 182.0\n",
      "LB: -145.5\n",
      "UB: 378.5\n",
      "IQR: 131.0\n",
      "Outliers: 1868\n",
      "-------------------------\n",
      "Column: osrm_time\n",
      "Q1: 23.0\n",
      "Q3: 74.0\n",
      "LB: -53.5\n",
      "UB: 150.5\n",
      "IQR: 51.0\n",
      "Outliers: 1853\n",
      "-------------------------\n",
      "Column: osrm_distance\n",
      "Q1: 26.0408\n",
      "Q3: 86.1399\n",
      "LB: -64.10784999999998\n",
      "UB: 176.28855\n",
      "IQR: 60.09909999999999\n",
      "Outliers: 1940\n",
      "-------------------------\n",
      "Column: segment_actual_time_sum\n",
      "Q1: 50.0\n",
      "Q3: 180.0\n",
      "LB: -145.0\n",
      "UB: 375.0\n",
      "IQR: 130.0\n",
      "Outliers: 1873\n",
      "-------------------------\n",
      "Column: segment_osrm_distance_sum\n",
      "Q1: 27.116\n",
      "Q3: 94.8538\n",
      "LB: -74.49070000000002\n",
      "UB: 196.46050000000002\n",
      "IQR: 67.73780000000001\n",
      "Outliers: 1941\n",
      "-------------------------\n",
      "Column: segment_osrm_time_sum\n",
      "Q1: 24.0\n",
      "Q3: 81.0\n",
      "LB: -61.5\n",
      "UB: 166.5\n",
      "IQR: 57.0\n",
      "Outliers: 2025\n",
      "-------------------------\n",
      "Column: od_total_time\n",
      "Q1: 104.16200571666667\n",
      "Q3: 334.75005031666666\n",
      "LB: -241.7200611833333\n",
      "UB: 680.6321172166666\n",
      "IQR: 230.5880446\n",
      "Outliers: 1584\n",
      "-------------------------\n"
     ]
    }
   ],
   "source": [
    "# detecting outliers\n",
    "for col in trip_num_cols:\n",
    "    Q1 = trip[col].quantile(0.25)\n",
    "    Q3 = trip[col].quantile(0.75)\n",
    "    IQR = Q3-Q1\n",
    "    LB = Q1-1.5*IQR\n",
    "    UB = Q3+1.5*IQR\n",
    "    outliers = trip[(trip[col]<LB) | (trip[col]>UB)]\n",
    "    print(\"Column:\",col)\n",
    "    print(\"Q1:\",Q1)\n",
    "    print(\"Q3:\",Q3)\n",
    "    print(\"LB:\",LB)\n",
    "    print(\"UB:\",UB)\n",
    "    print(\"IQR:\",IQR)\n",
    "    print(\"Outliers:\", outliers.shape[0])\n",
    "    print(\"-\"*25)"
   ]
  },
  {
   "cell_type": "markdown",
   "metadata": {},
   "source": [
    "Insight: \n",
    "\n",
    "    There are many outliers which might be of many reasons. Sometimes they might be true ones , \n",
    "    removing them would effect the data. So outliers are left untreated."
   ]
  },
  {
   "cell_type": "markdown",
   "metadata": {},
   "source": [
    "# Performing one-hot encoding on categorical features"
   ]
  },
  {
   "cell_type": "code",
   "execution_count": 72,
   "metadata": {},
   "outputs": [
    {
     "data": {
      "text/plain": [
       "['data', 'route_type']"
      ]
     },
     "execution_count": 72,
     "metadata": {},
     "output_type": "execute_result"
    }
   ],
   "source": [
    "cat_cols"
   ]
  },
  {
   "cell_type": "code",
   "execution_count": 73,
   "metadata": {},
   "outputs": [
    {
     "name": "stdout",
     "output_type": "stream",
     "text": [
      "value counts before label encoding\n",
      "data\n",
      "training    10654\n",
      "test         4163\n",
      "Name: data, dtype: int64\n",
      "route_type\n",
      "Carting    8908\n",
      "FTL        5909\n",
      "Name: route_type, dtype: int64\n"
     ]
    }
   ],
   "source": [
    "print(\"value counts before label encoding\")\n",
    "print(\"data\")\n",
    "print(trip['data'].value_counts())\n",
    "print(\"route_type\")\n",
    "print(trip['route_type'].value_counts())"
   ]
  },
  {
   "cell_type": "code",
   "execution_count": 74,
   "metadata": {},
   "outputs": [],
   "source": [
    "label_encoder = LabelEncoder()\n",
    "trip['data'] = label_encoder.fit_transform(trip['data'])\n",
    "trip['route_type'] = label_encoder.fit_transform(trip['route_type'])"
   ]
  },
  {
   "cell_type": "code",
   "execution_count": 75,
   "metadata": {},
   "outputs": [
    {
     "name": "stdout",
     "output_type": "stream",
     "text": [
      "value counts after label encoding\n",
      "data\n",
      "1    10654\n",
      "0     4163\n",
      "Name: data, dtype: int64\n",
      "route_type\n",
      "0    8908\n",
      "1    5909\n",
      "Name: route_type, dtype: int64\n"
     ]
    }
   ],
   "source": [
    "print(\"value counts after label encoding\")\n",
    "print(\"data\")\n",
    "print(trip['data'].value_counts())\n",
    "print(\"route_type\")\n",
    "print(trip['route_type'].value_counts())"
   ]
  },
  {
   "cell_type": "markdown",
   "metadata": {},
   "source": [
    "# Normalize/ Standardize the numerical features using MinMaxScaler or StandardScaler."
   ]
  },
  {
   "cell_type": "code",
   "execution_count": 76,
   "metadata": {},
   "outputs": [
    {
     "data": {
      "image/png": "[encoded data removed]",
      "text/plain": [
       "<Figure size 720x720 with 1 Axes>"
      ]
     },
     "metadata": {
      "needs_background": "light"
     },
     "output_type": "display_data"
    },
    {
     "data": {
      "image/png": "[encoded data removed]",
      "text/plain": [
       "<Figure size 720x720 with 1 Axes>"
      ]
     },
     "metadata": {
      "needs_background": "light"
     },
     "output_type": "display_data"
    },
    {
     "data": {
      "image/png": "[encoded data removed]",
      "text/plain": [
       "<Figure size 720x720 with 1 Axes>"
      ]
     },
     "metadata": {
      "needs_background": "light"
     },
     "output_type": "display_data"
    },
    {
     "data": {
      "image/png": "[encoded data removed]",
      "text/plain": [
       "<Figure size 720x720 with 1 Axes>"
      ]
     },
     "metadata": {
      "needs_background": "light"
     },
     "output_type": "display_data"
    },
    {
     "data": {
      "image/png": "[encoded data removed]",
      "text/plain": [
       "<Figure size 720x720 with 1 Axes>"
      ]
     },
     "metadata": {
      "needs_background": "light"
     },
     "output_type": "display_data"
    },
    {
     "data": {
      "image/png": "[encoded data removed]",
      "text/plain": [
       "<Figure size 720x720 with 1 Axes>"
      ]
     },
     "metadata": {
      "needs_background": "light"
     },
     "output_type": "display_data"
    },
    {
     "data": {
      "image/png": "[encoded data removed]",
      "text/plain": [
       "<Figure size 720x720 with 1 Axes>"
      ]
     },
     "metadata": {
      "needs_background": "light"
     },
     "output_type": "display_data"
    },
    {
     "data": {
      "image/png": "[encoded data removed]",
      "text/plain": [
       "<Figure size 720x720 with 1 Axes>"
      ]
     },
     "metadata": {
      "needs_background": "light"
     },
     "output_type": "display_data"
    },
    {
     "data": {
      "image/png": "[encoded data removed]",
      "text/plain": [
       "<Figure size 720x720 with 1 Axes>"
      ]
     },
     "metadata": {
      "needs_background": "light"
     },
     "output_type": "display_data"
    }
   ],
   "source": [
    "# Normalization \n",
    "\n",
    "for col in trip_num_cols:\n",
    "    plt.figure(figsize = (10, 10))\n",
    "    scaler = MinMaxScaler()\n",
    "    scaled = scaler.fit_transform(trip[col].to_numpy().reshape(-1, 1))\n",
    "    sns.histplot(scaled)\n",
    "    plt.title(f\"Normalized {col}\", fontsize=16)\n",
    "    #plt.plot()\n",
    "    plt.show()"
   ]
  },
  {
   "cell_type": "code",
   "execution_count": 77,
   "metadata": {},
   "outputs": [],
   "source": [
    "# Standardization"
   ]
  },
  {
   "cell_type": "code",
   "execution_count": 78,
   "metadata": {},
   "outputs": [
    {
     "data": {
      "image/png": "[encoded data removed]",
      "text/plain": [
       "<Figure size 720x720 with 1 Axes>"
      ]
     },
     "metadata": {
      "needs_background": "light"
     },
     "output_type": "display_data"
    },
    {
     "data": {
      "image/png": "[encoded data removed]",
      "text/plain": [
       "<Figure size 720x720 with 1 Axes>"
      ]
     },
     "metadata": {
      "needs_background": "light"
     },
     "output_type": "display_data"
    },
    {
     "data": {
      "image/png": "[encoded data removed]",
      "text/plain": [
       "<Figure size 720x720 with 1 Axes>"
      ]
     },
     "metadata": {
      "needs_background": "light"
     },
     "output_type": "display_data"
    },
    {
     "data": {
      "image/png": "[encoded data removed]",
      "text/plain": [
       "<Figure size 720x720 with 1 Axes>"
      ]
     },
     "metadata": {
      "needs_background": "light"
     },
     "output_type": "display_data"
    },
    {
     "data": {
      "image/png": "[encoded data removed]",
      "text/plain": [
       "<Figure size 720x720 with 1 Axes>"
      ]
     },
     "metadata": {
      "needs_background": "light"
     },
     "output_type": "display_data"
    },
    {
     "data": {
      "image/png": "[encoded data removed]",
      "text/plain": [
       "<Figure size 720x720 with 1 Axes>"
      ]
     },
     "metadata": {
      "needs_background": "light"
     },
     "output_type": "display_data"
    },
    {
     "data": {
      "image/png": "[encoded data removed]",
      "text/plain": [
       "<Figure size 720x720 with 1 Axes>"
      ]
     },
     "metadata": {
      "needs_background": "light"
     },
     "output_type": "display_data"
    },
    {
     "data": {
      "image/png": "[encoded data removed]",
      "text/plain": [
       "<Figure size 720x720 with 1 Axes>"
      ]
     },
     "metadata": {
      "needs_background": "light"
     },
     "output_type": "display_data"
    },
    {
     "data": {
      "image/png": "[encoded data removed]",
      "text/plain": [
       "<Figure size 720x720 with 1 Axes>"
      ]
     },
     "metadata": {
      "needs_background": "light"
     },
     "output_type": "display_data"
    }
   ],
   "source": [
    "for col in trip_num_cols:\n",
    "    plt.figure(figsize = (10, 10))\n",
    "    scaler = StandardScaler()\n",
    "    scaled = scaler.fit_transform(trip[col].to_numpy().reshape(-1, 1))\n",
    "    sns.histplot(scaled)\n",
    "    plt.title(f\"Standardized {col}\", fontsize=16)\n",
    "    #plt.plot()\n",
    "    plt.show()"
   ]
  },
  {
   "cell_type": "code",
   "execution_count": null,
   "metadata": {},
   "outputs": [],
   "source": []
  },
  {
   "cell_type": "markdown",
   "metadata": {},
   "source": [
    "# 5. Hypothesis Testing Check / Visual Analysis"
   ]
  },
  {
   "cell_type": "markdown",
   "metadata": {},
   "source": [
    "For checking correlation between numeric data we choose correlation Spearman correlation and calculate correlation coefficient by calculatiing rank of each data and then find the corrcoef.\n",
    "\n",
    "- Null hypothesis is any two numeric columns are independent of each other.\n",
    "- Alternate hypothesis will be columns are dependent on each other.\n",
    "- The correration coefficient gives the strength of relationship.\n",
    "- The range of spearman corrcoef is [-1,1].\n",
    "- The more +ve the coeff is the more +ve the strength will be.\n",
    "- The more -ve the coeff is, the more -ve the strenght will be.\n",
    "- If the corrcoeff is 0 then there is no correlation between two numeric columns."
   ]
  },
  {
   "cell_type": "markdown",
   "metadata": {},
   "source": [
    "# actual_time aggregated value and OSRM time aggregated value"
   ]
  },
  {
   "cell_type": "code",
   "execution_count": 82,
   "metadata": {},
   "outputs": [
    {
     "name": "stdout",
     "output_type": "stream",
     "text": [
      "There is +ve relation between actual_time and segment_osrm_time_sum - corrcoef:  0.83\n",
      "There is +ve relation between actual_time and segment_actual_time_sum - corrcoef:  1.0\n",
      "There is +ve relation between osrm_distance and segment_osrm_distance_sum - corrcoef:  0.99\n",
      "There is +ve relation between osrm_time and segment_osrm_time_sum - corrcoef:  0.98\n"
     ]
    }
   ],
   "source": [
    "corr_elements = [['actual_time','segment_osrm_time_sum'],['actual_time','segment_actual_time_sum'],\n",
    "                ['osrm_distance','segment_osrm_distance_sum'],['osrm_time','segment_osrm_time_sum']]\n",
    "\n",
    "for col in corr_elements:\n",
    "    val = np.corrcoef(trip[col[0]].rank(), trip[col[1]].rank())[0,1]\n",
    "    if val> 0 :\n",
    "        print(f'There is +ve relation between {col[0]} and', col[1],\"- corrcoef: \",np.round(val,2))\n",
    "    if val == 0:\n",
    "        print(f'There is no relation between {col[0]} and ', col[1],\"- corrcoef: \",np.round(val,2))\n",
    "    if val< 0:\n",
    "        print(f'There is -ve relation between {col[0]} and ', col[1],\"- corrcoef: \",np.round(val,2))"
   ]
  },
  {
   "cell_type": "code",
   "execution_count": 84,
   "metadata": {},
   "outputs": [
    {
     "data": {
      "image/png": "[encoded data removed]",
      "text/plain": [
       "<Figure size 864x432 with 1 Axes>"
      ]
     },
     "metadata": {
      "needs_background": "light"
     },
     "output_type": "display_data"
    },
    {
     "data": {
      "image/png": "[encoded data removed]",
      "text/plain": [
       "<Figure size 864x432 with 1 Axes>"
      ]
     },
     "metadata": {
      "needs_background": "light"
     },
     "output_type": "display_data"
    },
    {
     "data": {
      "image/png": "[encoded data removed]",
      "text/plain": [
       "<Figure size 864x432 with 1 Axes>"
      ]
     },
     "metadata": {
      "needs_background": "light"
     },
     "output_type": "display_data"
    },
    {
     "data": {
      "image/png": "[encoded data removed]",
      "text/plain": [
       "<Figure size 864x432 with 1 Axes>"
      ]
     },
     "metadata": {
      "needs_background": "light"
     },
     "output_type": "display_data"
    }
   ],
   "source": [
    "for col in corr_elements:\n",
    "    plt.figure(figsize = (12, 6))\n",
    "    sns.histplot(trip[col[0]], element = 'step', color = 'green')\n",
    "    sns.histplot(trip[col[1]], element = 'step', color = 'red')\n",
    "    plt.legend([col[0], col[1]])\n",
    "    plt.plot()"
   ]
  },
  {
   "cell_type": "code",
   "execution_count": null,
   "metadata": {},
   "outputs": [],
   "source": [
    "Insights:\n",
    "    \n",
    "    From the hypothesis testing and visual analysis we can observe that actual_time and segment_osrm_time_sum are less correlated than \n",
    "    others.\n",
    "    actual_time and segment_actual_time_sum is 100% correlated.\n",
    "    osrm_distance and segment_osrm_distance_sum and osrm_time and segment_osrm_time_sum are 98% correlated.\n",
    "    This indicates ORSM navigation system has some glithces in time and distance calculation."
   ]
  },
  {
   "cell_type": "code",
   "execution_count": null,
   "metadata": {},
   "outputs": [],
   "source": []
  },
  {
   "cell_type": "code",
   "execution_count": 85,
   "metadata": {},
   "outputs": [
    {
     "name": "stdout",
     "output_type": "stream",
     "text": [
      "<class 'pandas.core.frame.DataFrame'>\n",
      "RangeIndex: 14817 entries, 0 to 14816\n",
      "Data columns (total 30 columns):\n",
      " #   Column                          Non-Null Count  Dtype         \n",
      "---  ------                          --------------  -----         \n",
      " 0   data                            14817 non-null  int64         \n",
      " 1   trip_creation_time              14817 non-null  datetime64[ns]\n",
      " 2   route_schedule_uuid             14817 non-null  object        \n",
      " 3   route_type                      14817 non-null  int64         \n",
      " 4   trip_uuid                       14817 non-null  object        \n",
      " 5   source_center                   14817 non-null  object        \n",
      " 6   source_name                     14817 non-null  object        \n",
      " 7   destination_center              14817 non-null  object        \n",
      " 8   destination_name                14817 non-null  object        \n",
      " 9   start_scan_to_end_scan          14817 non-null  float64       \n",
      " 10  actual_distance_to_destination  14817 non-null  float64       \n",
      " 11  actual_time                     14817 non-null  float64       \n",
      " 12  osrm_time                       14817 non-null  float64       \n",
      " 13  osrm_distance                   14817 non-null  float64       \n",
      " 14  segment_actual_time_sum         14817 non-null  float64       \n",
      " 15  segment_osrm_distance_sum       14817 non-null  float64       \n",
      " 16  segment_osrm_time_sum           14817 non-null  float64       \n",
      " 17  od_total_time                   14817 non-null  float64       \n",
      " 18  destination_state               14817 non-null  object        \n",
      " 19  destination_city                14817 non-null  object        \n",
      " 20  destination_place               14817 non-null  object        \n",
      " 21  destination_code                14817 non-null  object        \n",
      " 22  source_state                    14817 non-null  object        \n",
      " 23  source_city                     14817 non-null  object        \n",
      " 24  source_place                    14817 non-null  object        \n",
      " 25  source_code                     14817 non-null  object        \n",
      " 26  trip_creation_year              14817 non-null  int64         \n",
      " 27  trip_creation_month             14817 non-null  int64         \n",
      " 28  trip_creation_day               14817 non-null  int64         \n",
      " 29  trip_creation_hour              14817 non-null  int64         \n",
      "dtypes: datetime64[ns](1), float64(9), int64(6), object(14)\n",
      "memory usage: 3.4+ MB\n"
     ]
    }
   ],
   "source": [
    "trip.info()"
   ]
  },
  {
   "cell_type": "code",
   "execution_count": 126,
   "metadata": {},
   "outputs": [
    {
     "data": {
      "image/png": "[encoded data removed]",
      "text/plain": [
       "<Figure size 864x504 with 1 Axes>"
      ]
     },
     "metadata": {
      "needs_background": "light"
     },
     "output_type": "display_data"
    }
   ],
   "source": [
    "plt.figure(figsize=(12,7))\n",
    "sns.countplot(x=trip.trip_creation_month)\n",
    "plt.title(\"# of trips per month\", fontsize = 15)\n",
    "plt.show()"
   ]
  },
  {
   "cell_type": "markdown",
   "metadata": {},
   "source": [
    "Insight: More trips are created in the month of september."
   ]
  },
  {
   "cell_type": "code",
   "execution_count": 127,
   "metadata": {},
   "outputs": [
    {
     "data": {
      "image/png": "[encoded data removed]",
      "text/plain": [
       "<Figure size 864x504 with 1 Axes>"
      ]
     },
     "metadata": {
      "needs_background": "light"
     },
     "output_type": "display_data"
    }
   ],
   "source": [
    "plt.figure(figsize=(12,7))\n",
    "sns.countplot(x=trip.trip_creation_day)\n",
    "plt.grid(True)\n",
    "plt.title(\"# of trips created per day\", fontsize= 15)\n",
    "plt.show()"
   ]
  },
  {
   "cell_type": "code",
   "execution_count": null,
   "metadata": {},
   "outputs": [],
   "source": []
  },
  {
   "cell_type": "code",
   "execution_count": 128,
   "metadata": {},
   "outputs": [
    {
     "data": {
      "image/png": "[encoded data removed]",
      "text/plain": [
       "<Figure size 864x504 with 1 Axes>"
      ]
     },
     "metadata": {
      "needs_background": "light"
     },
     "output_type": "display_data"
    }
   ],
   "source": [
    "plt.figure(figsize=(12,7))\n",
    "sns.countplot(x=trip.trip_creation_hour)\n",
    "plt.grid(True)\n",
    "plt.title(\"# of trips created based on hour\", fontsize= 15)\n",
    "plt.show()"
   ]
  },
  {
   "cell_type": "markdown",
   "metadata": {},
   "source": [
    "Insights: More trips are created at night hours."
   ]
  },
  {
   "cell_type": "code",
   "execution_count": 109,
   "metadata": {
    "scrolled": true
   },
   "outputs": [
    {
     "data": {
      "text/html": [
       "<div>\n",
       "<style scoped>\n",
       "    .dataframe tbody tr th:only-of-type {\n",
       "        vertical-align: middle;\n",
       "    }\n",
       "\n",
       "    .dataframe tbody tr th {\n",
       "        vertical-align: top;\n",
       "    }\n",
       "\n",
       "    .dataframe thead th {\n",
       "        text-align: right;\n",
       "    }\n",
       "</style>\n",
       "<table border=\"1\" class=\"dataframe\">\n",
       "  <thead>\n",
       "    <tr style=\"text-align: right;\">\n",
       "      <th></th>\n",
       "      <th>source_state</th>\n",
       "      <th>trip_uuid</th>\n",
       "      <th>perc</th>\n",
       "    </tr>\n",
       "  </thead>\n",
       "  <tbody>\n",
       "    <tr>\n",
       "      <th>17</th>\n",
       "      <td>Maharashtra</td>\n",
       "      <td>2714</td>\n",
       "      <td>18.32</td>\n",
       "    </tr>\n",
       "    <tr>\n",
       "      <th>14</th>\n",
       "      <td>Karnataka</td>\n",
       "      <td>2143</td>\n",
       "      <td>14.46</td>\n",
       "    </tr>\n",
       "    <tr>\n",
       "      <th>10</th>\n",
       "      <td>Haryana</td>\n",
       "      <td>1838</td>\n",
       "      <td>12.40</td>\n",
       "    </tr>\n",
       "    <tr>\n",
       "      <th>24</th>\n",
       "      <td>Tamil Nadu</td>\n",
       "      <td>1039</td>\n",
       "      <td>7.01</td>\n",
       "    </tr>\n",
       "    <tr>\n",
       "      <th>25</th>\n",
       "      <td>Telangana</td>\n",
       "      <td>781</td>\n",
       "      <td>5.27</td>\n",
       "    </tr>\n",
       "  </tbody>\n",
       "</table>\n",
       "</div>"
      ],
      "text/plain": [
       "   source_state  trip_uuid   perc\n",
       "17  Maharashtra       2714  18.32\n",
       "14    Karnataka       2143  14.46\n",
       "10      Haryana       1838  12.40\n",
       "24   Tamil Nadu       1039   7.01\n",
       "25    Telangana        781   5.27"
      ]
     },
     "execution_count": 109,
     "metadata": {},
     "output_type": "execute_result"
    }
   ],
   "source": [
    "# States with highest no of trips created\n",
    "df_source_state = trip.groupby(by = 'source_state')['trip_uuid'].count().to_frame().reset_index()\n",
    "df_source_state['perc'] = np.round(df_source_state['trip_uuid'] * 100/ df_source_state['trip_uuid'].sum(), 2)\n",
    "df_source_state = df_source_state.sort_values(by = 'perc', ascending = False)\n",
    "df_source_state.head()"
   ]
  },
  {
   "cell_type": "code",
   "execution_count": 129,
   "metadata": {},
   "outputs": [
    {
     "data": {
      "image/png": "[encoded data removed]",
      "text/plain": [
       "<Figure size 720x1080 with 1 Axes>"
      ]
     },
     "metadata": {
      "needs_background": "light"
     },
     "output_type": "display_data"
    }
   ],
   "source": [
    "plt.figure(figsize = (10, 15))\n",
    "sns.barplot(data = df_source_state, \n",
    "            x = df_source_state['trip_uuid'], \n",
    "            y = df_source_state['source_state'])\n",
    "plt.title(\"States with highest no of trips created\", fontsize=15)\n",
    "plt.plot()\n",
    "plt.show()"
   ]
  },
  {
   "cell_type": "markdown",
   "metadata": {},
   "source": [
    "Insights: \n",
    "    \n",
    "    Maharashtra is the top state with highest no of trips booed from. secon and third would be Karnataka and  Haryana.\n",
    "    Pondicherry, Dadra and Nagar Haveli are the least booking states."
   ]
  },
  {
   "cell_type": "code",
   "execution_count": 114,
   "metadata": {},
   "outputs": [
    {
     "data": {
      "text/html": [
       "<div>\n",
       "<style scoped>\n",
       "    .dataframe tbody tr th:only-of-type {\n",
       "        vertical-align: middle;\n",
       "    }\n",
       "\n",
       "    .dataframe tbody tr th {\n",
       "        vertical-align: top;\n",
       "    }\n",
       "\n",
       "    .dataframe thead th {\n",
       "        text-align: right;\n",
       "    }\n",
       "</style>\n",
       "<table border=\"1\" class=\"dataframe\">\n",
       "  <thead>\n",
       "    <tr style=\"text-align: right;\">\n",
       "      <th></th>\n",
       "      <th>source_city</th>\n",
       "      <th>trip_uuid</th>\n",
       "      <th>perc</th>\n",
       "    </tr>\n",
       "  </thead>\n",
       "  <tbody>\n",
       "    <tr>\n",
       "      <th>242</th>\n",
       "      <td>Gurgaon</td>\n",
       "      <td>1165</td>\n",
       "      <td>7.86</td>\n",
       "    </tr>\n",
       "    <tr>\n",
       "      <th>446</th>\n",
       "      <td>Mumbai</td>\n",
       "      <td>1128</td>\n",
       "      <td>7.61</td>\n",
       "    </tr>\n",
       "    <tr>\n",
       "      <th>173</th>\n",
       "      <td>Delhi</td>\n",
       "      <td>883</td>\n",
       "      <td>5.96</td>\n",
       "    </tr>\n",
       "    <tr>\n",
       "      <th>80</th>\n",
       "      <td>Bengaluru</td>\n",
       "      <td>726</td>\n",
       "      <td>4.90</td>\n",
       "    </tr>\n",
       "    <tr>\n",
       "      <th>101</th>\n",
       "      <td>Bhiwandi</td>\n",
       "      <td>697</td>\n",
       "      <td>4.70</td>\n",
       "    </tr>\n",
       "    <tr>\n",
       "      <th>58</th>\n",
       "      <td>Bangalore</td>\n",
       "      <td>648</td>\n",
       "      <td>4.37</td>\n",
       "    </tr>\n",
       "    <tr>\n",
       "      <th>139</th>\n",
       "      <td>Chennai</td>\n",
       "      <td>568</td>\n",
       "      <td>3.83</td>\n",
       "    </tr>\n",
       "    <tr>\n",
       "      <th>269</th>\n",
       "      <td>Hyderabad</td>\n",
       "      <td>524</td>\n",
       "      <td>3.54</td>\n",
       "    </tr>\n",
       "    <tr>\n",
       "      <th>530</th>\n",
       "      <td>Pune</td>\n",
       "      <td>480</td>\n",
       "      <td>3.24</td>\n",
       "    </tr>\n",
       "    <tr>\n",
       "      <th>364</th>\n",
       "      <td>Kolkata</td>\n",
       "      <td>356</td>\n",
       "      <td>2.40</td>\n",
       "    </tr>\n",
       "    <tr>\n",
       "      <th>448</th>\n",
       "      <td>Mumbai Hub</td>\n",
       "      <td>300</td>\n",
       "      <td>2.02</td>\n",
       "    </tr>\n",
       "    <tr>\n",
       "      <th>625</th>\n",
       "      <td>Sonipat</td>\n",
       "      <td>276</td>\n",
       "      <td>1.86</td>\n",
       "    </tr>\n",
       "    <tr>\n",
       "      <th>2</th>\n",
       "      <td>Ahmedabad</td>\n",
       "      <td>274</td>\n",
       "      <td>1.85</td>\n",
       "    </tr>\n",
       "    <tr>\n",
       "      <th>135</th>\n",
       "      <td>Chandigarh</td>\n",
       "      <td>272</td>\n",
       "      <td>1.84</td>\n",
       "    </tr>\n",
       "    <tr>\n",
       "      <th>276</th>\n",
       "      <td>Jaipur</td>\n",
       "      <td>246</td>\n",
       "      <td>1.66</td>\n",
       "    </tr>\n",
       "    <tr>\n",
       "      <th>205</th>\n",
       "      <td>Faridabad</td>\n",
       "      <td>200</td>\n",
       "      <td>1.35</td>\n",
       "    </tr>\n",
       "    <tr>\n",
       "      <th>457</th>\n",
       "      <td>Muzaffrpur</td>\n",
       "      <td>159</td>\n",
       "      <td>1.07</td>\n",
       "    </tr>\n",
       "    <tr>\n",
       "      <th>389</th>\n",
       "      <td>Ludhiana</td>\n",
       "      <td>158</td>\n",
       "      <td>1.07</td>\n",
       "    </tr>\n",
       "    <tr>\n",
       "      <th>327</th>\n",
       "      <td>Kanpur</td>\n",
       "      <td>145</td>\n",
       "      <td>0.98</td>\n",
       "    </tr>\n",
       "    <tr>\n",
       "      <th>636</th>\n",
       "      <td>Surat</td>\n",
       "      <td>140</td>\n",
       "      <td>0.94</td>\n",
       "    </tr>\n",
       "  </tbody>\n",
       "</table>\n",
       "</div>"
      ],
      "text/plain": [
       "     source_city  trip_uuid  perc\n",
       "242      Gurgaon       1165  7.86\n",
       "446       Mumbai       1128  7.61\n",
       "173        Delhi        883  5.96\n",
       "80     Bengaluru        726  4.90\n",
       "101     Bhiwandi        697  4.70\n",
       "58     Bangalore        648  4.37\n",
       "139      Chennai        568  3.83\n",
       "269    Hyderabad        524  3.54\n",
       "530         Pune        480  3.24\n",
       "364      Kolkata        356  2.40\n",
       "448  Mumbai Hub         300  2.02\n",
       "625      Sonipat        276  1.86\n",
       "2      Ahmedabad        274  1.85\n",
       "135   Chandigarh        272  1.84\n",
       "276       Jaipur        246  1.66\n",
       "205    Faridabad        200  1.35\n",
       "457   Muzaffrpur        159  1.07\n",
       "389     Ludhiana        158  1.07\n",
       "327       Kanpur        145  0.98\n",
       "636        Surat        140  0.94"
      ]
     },
     "execution_count": 114,
     "metadata": {},
     "output_type": "execute_result"
    }
   ],
   "source": [
    "# top 20 cities based on the number of trips created from different cities\n",
    "df_source_city = trip.groupby(by = 'source_city')['trip_uuid'].count().to_frame().reset_index()\n",
    "df_source_city['perc'] = np.round(df_source_city['trip_uuid'] * 100/ df_source_city['trip_uuid'].sum(), 2)\n",
    "df_source_city = df_source_city.sort_values(by = 'perc', ascending = False)[:20]\n",
    "df_source_city"
   ]
  },
  {
   "cell_type": "code",
   "execution_count": 131,
   "metadata": {},
   "outputs": [
    {
     "data": {
      "image/png": "[encoded data removed]",
      "text/plain": [
       "<Figure size 720x720 with 1 Axes>"
      ]
     },
     "metadata": {
      "needs_background": "light"
     },
     "output_type": "display_data"
    }
   ],
   "source": [
    "plt.figure(figsize = (10, 10))\n",
    "sns.barplot(data = df_source_city, \n",
    "            x = df_source_city['trip_uuid'], \n",
    "            y = df_source_city['source_city'])\n",
    "plt.title(\"Top 20 cities based on the number of trips created from different cities\", fontsize=15)\n",
    "plt.plot()\n",
    "plt.show()"
   ]
  },
  {
   "cell_type": "markdown",
   "metadata": {},
   "source": [
    "Insights:\n",
    "    \n",
    "    Gurgon is the top city with highest nuber of trips created followed by Mumbai and Delhi."
   ]
  },
  {
   "cell_type": "code",
   "execution_count": 121,
   "metadata": {},
   "outputs": [
    {
     "data": {
      "text/html": [
       "<div>\n",
       "<style scoped>\n",
       "    .dataframe tbody tr th:only-of-type {\n",
       "        vertical-align: middle;\n",
       "    }\n",
       "\n",
       "    .dataframe tbody tr th {\n",
       "        vertical-align: top;\n",
       "    }\n",
       "\n",
       "    .dataframe thead th {\n",
       "        text-align: right;\n",
       "    }\n",
       "</style>\n",
       "<table border=\"1\" class=\"dataframe\">\n",
       "  <thead>\n",
       "    <tr style=\"text-align: right;\">\n",
       "      <th></th>\n",
       "      <th>source_state</th>\n",
       "      <th>trip_uuid</th>\n",
       "      <th>perc</th>\n",
       "    </tr>\n",
       "  </thead>\n",
       "  <tbody>\n",
       "    <tr>\n",
       "      <th>17</th>\n",
       "      <td>Maharashtra</td>\n",
       "      <td>2714</td>\n",
       "      <td>18.32</td>\n",
       "    </tr>\n",
       "    <tr>\n",
       "      <th>14</th>\n",
       "      <td>Karnataka</td>\n",
       "      <td>2143</td>\n",
       "      <td>14.46</td>\n",
       "    </tr>\n",
       "    <tr>\n",
       "      <th>10</th>\n",
       "      <td>Haryana</td>\n",
       "      <td>1838</td>\n",
       "      <td>12.40</td>\n",
       "    </tr>\n",
       "    <tr>\n",
       "      <th>24</th>\n",
       "      <td>Tamil Nadu</td>\n",
       "      <td>1039</td>\n",
       "      <td>7.01</td>\n",
       "    </tr>\n",
       "    <tr>\n",
       "      <th>25</th>\n",
       "      <td>Telangana</td>\n",
       "      <td>781</td>\n",
       "      <td>5.27</td>\n",
       "    </tr>\n",
       "  </tbody>\n",
       "</table>\n",
       "</div>"
      ],
      "text/plain": [
       "   source_state  trip_uuid   perc\n",
       "17  Maharashtra       2714  18.32\n",
       "14    Karnataka       2143  14.46\n",
       "10      Haryana       1838  12.40\n",
       "24   Tamil Nadu       1039   7.01\n",
       "25    Telangana        781   5.27"
      ]
     },
     "execution_count": 121,
     "metadata": {},
     "output_type": "execute_result"
    }
   ],
   "source": [
    "# Destinatoin States with highest no of trips created to\n",
    "df_destn_state = trip.groupby(by = 'destination_state')['trip_uuid'].count().to_frame().reset_index()\n",
    "df_destn_state['perc'] = np.round(df_destn_state['trip_uuid'] * 100/ df_destn_state['trip_uuid'].sum(), 2)\n",
    "df_destn_state = df_destn_state.sort_values(by = 'perc', ascending = False)\n",
    "df_source_state.head()"
   ]
  },
  {
   "cell_type": "code",
   "execution_count": 134,
   "metadata": {},
   "outputs": [
    {
     "data": {
      "image/png": "[encoded data removed]",
      "text/plain": [
       "<Figure size 720x1080 with 1 Axes>"
      ]
     },
     "metadata": {
      "needs_background": "light"
     },
     "output_type": "display_data"
    }
   ],
   "source": [
    "plt.figure(figsize = (10, 15))\n",
    "sns.barplot(data = df_destn_state, \n",
    "            x = df_destn_state['trip_uuid'], \n",
    "            y = df_destn_state['destination_state'])\n",
    "plt.title(\"Destination States with highest no of trips created to\", fontsize = 15)\n",
    "plt.plot()\n",
    "plt.show()"
   ]
  },
  {
   "cell_type": "code",
   "execution_count": null,
   "metadata": {},
   "outputs": [],
   "source": [
    "Insights:\n",
    "    \n",
    "    Top Destination states are Maharashtra, Karnataka and Haryana."
   ]
  },
  {
   "cell_type": "code",
   "execution_count": 118,
   "metadata": {},
   "outputs": [
    {
     "data": {
      "text/html": [
       "<div>\n",
       "<style scoped>\n",
       "    .dataframe tbody tr th:only-of-type {\n",
       "        vertical-align: middle;\n",
       "    }\n",
       "\n",
       "    .dataframe tbody tr th {\n",
       "        vertical-align: top;\n",
       "    }\n",
       "\n",
       "    .dataframe thead th {\n",
       "        text-align: right;\n",
       "    }\n",
       "</style>\n",
       "<table border=\"1\" class=\"dataframe\">\n",
       "  <thead>\n",
       "    <tr style=\"text-align: right;\">\n",
       "      <th></th>\n",
       "      <th>destination_city</th>\n",
       "      <th>trip_uuid</th>\n",
       "      <th>perc</th>\n",
       "    </tr>\n",
       "  </thead>\n",
       "  <tbody>\n",
       "    <tr>\n",
       "      <th>521</th>\n",
       "      <td>Mumbai</td>\n",
       "      <td>1312</td>\n",
       "      <td>8.85</td>\n",
       "    </tr>\n",
       "    <tr>\n",
       "      <th>97</th>\n",
       "      <td>Bengaluru</td>\n",
       "      <td>975</td>\n",
       "      <td>6.58</td>\n",
       "    </tr>\n",
       "    <tr>\n",
       "      <th>286</th>\n",
       "      <td>Gurgaon</td>\n",
       "      <td>936</td>\n",
       "      <td>6.32</td>\n",
       "    </tr>\n",
       "    <tr>\n",
       "      <th>203</th>\n",
       "      <td>Delhi</td>\n",
       "      <td>778</td>\n",
       "      <td>5.25</td>\n",
       "    </tr>\n",
       "    <tr>\n",
       "      <th>166</th>\n",
       "      <td>Chennai</td>\n",
       "      <td>595</td>\n",
       "      <td>4.02</td>\n",
       "    </tr>\n",
       "    <tr>\n",
       "      <th>73</th>\n",
       "      <td>Bangalore</td>\n",
       "      <td>551</td>\n",
       "      <td>3.72</td>\n",
       "    </tr>\n",
       "    <tr>\n",
       "      <th>312</th>\n",
       "      <td>Hyderabad</td>\n",
       "      <td>503</td>\n",
       "      <td>3.39</td>\n",
       "    </tr>\n",
       "    <tr>\n",
       "      <th>116</th>\n",
       "      <td>Bhiwandi</td>\n",
       "      <td>434</td>\n",
       "      <td>2.93</td>\n",
       "    </tr>\n",
       "    <tr>\n",
       "      <th>424</th>\n",
       "      <td>Kolkata</td>\n",
       "      <td>384</td>\n",
       "      <td>2.59</td>\n",
       "    </tr>\n",
       "    <tr>\n",
       "      <th>160</th>\n",
       "      <td>Chandigarh</td>\n",
       "      <td>338</td>\n",
       "      <td>2.28</td>\n",
       "    </tr>\n",
       "    <tr>\n",
       "      <th>737</th>\n",
       "      <td>Sonipat</td>\n",
       "      <td>322</td>\n",
       "      <td>2.17</td>\n",
       "    </tr>\n",
       "    <tr>\n",
       "      <th>623</th>\n",
       "      <td>Pune</td>\n",
       "      <td>313</td>\n",
       "      <td>2.11</td>\n",
       "    </tr>\n",
       "    <tr>\n",
       "      <th>4</th>\n",
       "      <td>Ahmedabad</td>\n",
       "      <td>265</td>\n",
       "      <td>1.79</td>\n",
       "    </tr>\n",
       "    <tr>\n",
       "      <th>523</th>\n",
       "      <td>Mumbai Hub</td>\n",
       "      <td>234</td>\n",
       "      <td>1.58</td>\n",
       "    </tr>\n",
       "    <tr>\n",
       "      <th>245</th>\n",
       "      <td>Faridabad</td>\n",
       "      <td>220</td>\n",
       "      <td>1.48</td>\n",
       "    </tr>\n",
       "    <tr>\n",
       "      <th>323</th>\n",
       "      <td>Jaipur</td>\n",
       "      <td>189</td>\n",
       "      <td>1.28</td>\n",
       "    </tr>\n",
       "    <tr>\n",
       "      <th>377</th>\n",
       "      <td>Kanpur</td>\n",
       "      <td>148</td>\n",
       "      <td>1.00</td>\n",
       "    </tr>\n",
       "    <tr>\n",
       "      <th>118</th>\n",
       "      <td>Bhopal</td>\n",
       "      <td>124</td>\n",
       "      <td>0.84</td>\n",
       "    </tr>\n",
       "    <tr>\n",
       "      <th>752</th>\n",
       "      <td>Surat</td>\n",
       "      <td>117</td>\n",
       "      <td>0.79</td>\n",
       "    </tr>\n",
       "    <tr>\n",
       "      <th>560</th>\n",
       "      <td>Noida</td>\n",
       "      <td>106</td>\n",
       "      <td>0.72</td>\n",
       "    </tr>\n",
       "  </tbody>\n",
       "</table>\n",
       "</div>"
      ],
      "text/plain": [
       "    destination_city  trip_uuid  perc\n",
       "521           Mumbai       1312  8.85\n",
       "97         Bengaluru        975  6.58\n",
       "286          Gurgaon        936  6.32\n",
       "203            Delhi        778  5.25\n",
       "166          Chennai        595  4.02\n",
       "73         Bangalore        551  3.72\n",
       "312        Hyderabad        503  3.39\n",
       "116         Bhiwandi        434  2.93\n",
       "424          Kolkata        384  2.59\n",
       "160       Chandigarh        338  2.28\n",
       "737          Sonipat        322  2.17\n",
       "623             Pune        313  2.11\n",
       "4          Ahmedabad        265  1.79\n",
       "523      Mumbai Hub         234  1.58\n",
       "245        Faridabad        220  1.48\n",
       "323           Jaipur        189  1.28\n",
       "377           Kanpur        148  1.00\n",
       "118           Bhopal        124  0.84\n",
       "752            Surat        117  0.79\n",
       "560            Noida        106  0.72"
      ]
     },
     "execution_count": 118,
     "metadata": {},
     "output_type": "execute_result"
    }
   ],
   "source": [
    "\n",
    "# top 20 cities based on the number of trips created from different cities\n",
    "df_destn_city = trip.groupby(by = 'destination_city')['trip_uuid'].count().to_frame().reset_index()\n",
    "df_destn_city['perc'] = np.round(df_destn_city['trip_uuid'] * 100/ df_destn_city['trip_uuid'].sum(), 2)\n",
    "df_destn_city = df_destn_city.sort_values(by = 'perc', ascending = False)[:20]\n",
    "df_destn_city"
   ]
  },
  {
   "cell_type": "code",
   "execution_count": 136,
   "metadata": {},
   "outputs": [
    {
     "data": {
      "image/png": "[encoded data removed]",
      "text/plain": [
       "<Figure size 720x720 with 1 Axes>"
      ]
     },
     "metadata": {
      "needs_background": "light"
     },
     "output_type": "display_data"
    }
   ],
   "source": [
    "plt.figure(figsize = (10, 10))\n",
    "sns.barplot(data = df_destn_city, \n",
    "            x = df_destn_city['trip_uuid'], \n",
    "            y = df_destn_city['destination_city'])\n",
    "plt.title(\"Top 20 destination cities\",fontsize=15 )\n",
    "plt.plot()\n",
    "plt.show()"
   ]
  },
  {
   "cell_type": "code",
   "execution_count": null,
   "metadata": {},
   "outputs": [],
   "source": [
    "Insights: \n",
    "    \n",
    "    Mumbai, Gurgon and Delhi are top 3 destination cities."
   ]
  }
 ],
 "metadata": {
  "kernelspec": {
   "display_name": "Python 3",
   "language": "python",
   "name": "python3"
  },
  "language_info": {
   "codemirror_mode": {
    "name": "ipython",
    "version": 3
   },
   "file_extension": ".py",
   "mimetype": "text/x-python",
   "name": "python",
   "nbconvert_exporter": "python",
   "pygments_lexer": "ipython3",
   "version": "3.8.5"
  }
 },
 "nbformat": 4,
 "nbformat_minor": 4
}
